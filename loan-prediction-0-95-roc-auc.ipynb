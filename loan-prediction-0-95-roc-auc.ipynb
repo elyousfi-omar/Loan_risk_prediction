{
 "cells": [
  {
   "cell_type": "markdown",
   "id": "112315ce",
   "metadata": {
    "papermill": {
     "duration": 0.070791,
     "end_time": "2021-12-21T14:32:41.027496",
     "exception": false,
     "start_time": "2021-12-21T14:32:40.956705",
     "status": "completed"
    },
    "tags": []
   },
   "source": [
    "# Loan Prediction\n",
    "# XGBoost / Hyperparameter tunning"
   ]
  },
  {
   "cell_type": "markdown",
   "id": "97455031",
   "metadata": {
    "papermill": {
     "duration": 0.067024,
     "end_time": "2021-12-21T14:32:41.162561",
     "exception": false,
     "start_time": "2021-12-21T14:32:41.095537",
     "status": "completed"
    },
    "tags": []
   },
   "source": [
    "` This notebook is work in progress, I will add comments later`"
   ]
  },
  {
   "cell_type": "markdown",
   "id": "f736f7f6",
   "metadata": {
    "papermill": {
     "duration": 0.088461,
     "end_time": "2021-12-21T14:32:41.317783",
     "exception": false,
     "start_time": "2021-12-21T14:32:41.229322",
     "status": "completed"
    },
    "tags": []
   },
   "source": [
    "## Plan\n",
    "1. Data Analysis \n",
    "2. Data Pre processing\n",
    "3. Models testing\n",
    "4. Hyperparameter tunning"
   ]
  },
  {
   "cell_type": "markdown",
   "id": "76486d29",
   "metadata": {
    "papermill": {
     "duration": 0.066736,
     "end_time": "2021-12-21T14:32:41.466238",
     "exception": false,
     "start_time": "2021-12-21T14:32:41.399502",
     "status": "completed"
    },
    "tags": []
   },
   "source": [
    "Let us first start by importing the necessary packages:"
   ]
  },
  {
   "cell_type": "code",
   "execution_count": 1,
   "id": "7ee6ffea",
   "metadata": {
    "_cell_guid": "b1076dfc-b9ad-4769-8c92-a6c4dae69d19",
    "_uuid": "8f2839f25d086af736a60e9eeb907d3b93b6e0e5",
    "execution": {
     "iopub.execute_input": "2021-12-21T14:32:41.614768Z",
     "iopub.status.busy": "2021-12-21T14:32:41.614005Z",
     "iopub.status.idle": "2021-12-21T14:32:42.669304Z",
     "shell.execute_reply": "2021-12-21T14:32:42.669875Z",
     "shell.execute_reply.started": "2021-12-21T12:20:50.925761Z"
    },
    "papermill": {
     "duration": 1.136507,
     "end_time": "2021-12-21T14:32:42.670222",
     "exception": false,
     "start_time": "2021-12-21T14:32:41.533715",
     "status": "completed"
    },
    "tags": []
   },
   "outputs": [
    {
     "name": "stdout",
     "output_type": "stream",
     "text": [
      "/kaggle/input/loan-prediction-based-on-customer-behavior/Test Data.csv\n",
      "/kaggle/input/loan-prediction-based-on-customer-behavior/Training Data.csv\n",
      "/kaggle/input/loan-prediction-based-on-customer-behavior/Sample Prediction Dataset.csv\n"
     ]
    }
   ],
   "source": [
    "import numpy as np\n",
    "import pandas as pd \n",
    "import matplotlib.pyplot as plt\n",
    "import seaborn as sns\n",
    "import os\n",
    "for dirname, _, filenames in os.walk('/kaggle/input'):\n",
    "    for filename in filenames:\n",
    "        print(os.path.join(dirname, filename))"
   ]
  },
  {
   "cell_type": "markdown",
   "id": "2c140805",
   "metadata": {
    "papermill": {
     "duration": 0.066614,
     "end_time": "2021-12-21T14:32:42.804366",
     "exception": false,
     "start_time": "2021-12-21T14:32:42.737752",
     "status": "completed"
    },
    "tags": []
   },
   "source": [
    "I would be using ggplot theme for my plots"
   ]
  },
  {
   "cell_type": "code",
   "execution_count": 2,
   "id": "2ae40725",
   "metadata": {
    "execution": {
     "iopub.execute_input": "2021-12-21T14:32:42.942787Z",
     "iopub.status.busy": "2021-12-21T14:32:42.942182Z",
     "iopub.status.idle": "2021-12-21T14:32:42.946274Z",
     "shell.execute_reply": "2021-12-21T14:32:42.946871Z",
     "shell.execute_reply.started": "2021-12-21T12:20:51.931554Z"
    },
    "papermill": {
     "duration": 0.074519,
     "end_time": "2021-12-21T14:32:42.947061",
     "exception": false,
     "start_time": "2021-12-21T14:32:42.872542",
     "status": "completed"
    },
    "tags": []
   },
   "outputs": [],
   "source": [
    "plt.style.use('ggplot')"
   ]
  },
  {
   "cell_type": "markdown",
   "id": "e2ac9b1e",
   "metadata": {
    "papermill": {
     "duration": 0.06779,
     "end_time": "2021-12-21T14:32:43.081862",
     "exception": false,
     "start_time": "2021-12-21T14:32:43.014072",
     "status": "completed"
    },
    "tags": []
   },
   "source": [
    "Import the data"
   ]
  },
  {
   "cell_type": "code",
   "execution_count": 3,
   "id": "4c39fc25",
   "metadata": {
    "execution": {
     "iopub.execute_input": "2021-12-21T14:32:43.219249Z",
     "iopub.status.busy": "2021-12-21T14:32:43.218608Z",
     "iopub.status.idle": "2021-12-21T14:32:44.004306Z",
     "shell.execute_reply": "2021-12-21T14:32:44.003628Z",
     "shell.execute_reply.started": "2021-12-21T12:20:51.938883Z"
    },
    "papermill": {
     "duration": 0.855505,
     "end_time": "2021-12-21T14:32:44.004590",
     "exception": false,
     "start_time": "2021-12-21T14:32:43.149085",
     "status": "completed"
    },
    "tags": []
   },
   "outputs": [
    {
     "data": {
      "text/html": [
       "<div>\n",
       "<style scoped>\n",
       "    .dataframe tbody tr th:only-of-type {\n",
       "        vertical-align: middle;\n",
       "    }\n",
       "\n",
       "    .dataframe tbody tr th {\n",
       "        vertical-align: top;\n",
       "    }\n",
       "\n",
       "    .dataframe thead th {\n",
       "        text-align: right;\n",
       "    }\n",
       "</style>\n",
       "<table border=\"1\" class=\"dataframe\">\n",
       "  <thead>\n",
       "    <tr style=\"text-align: right;\">\n",
       "      <th></th>\n",
       "      <th>Id</th>\n",
       "      <th>Income</th>\n",
       "      <th>Age</th>\n",
       "      <th>Experience</th>\n",
       "      <th>Married/Single</th>\n",
       "      <th>House_Ownership</th>\n",
       "      <th>Car_Ownership</th>\n",
       "      <th>Profession</th>\n",
       "      <th>CITY</th>\n",
       "      <th>STATE</th>\n",
       "      <th>CURRENT_JOB_YRS</th>\n",
       "      <th>CURRENT_HOUSE_YRS</th>\n",
       "      <th>Risk_Flag</th>\n",
       "    </tr>\n",
       "  </thead>\n",
       "  <tbody>\n",
       "    <tr>\n",
       "      <th>0</th>\n",
       "      <td>1</td>\n",
       "      <td>1303834</td>\n",
       "      <td>23</td>\n",
       "      <td>3</td>\n",
       "      <td>single</td>\n",
       "      <td>rented</td>\n",
       "      <td>no</td>\n",
       "      <td>Mechanical_engineer</td>\n",
       "      <td>Rewa</td>\n",
       "      <td>Madhya_Pradesh</td>\n",
       "      <td>3</td>\n",
       "      <td>13</td>\n",
       "      <td>0</td>\n",
       "    </tr>\n",
       "    <tr>\n",
       "      <th>1</th>\n",
       "      <td>2</td>\n",
       "      <td>7574516</td>\n",
       "      <td>40</td>\n",
       "      <td>10</td>\n",
       "      <td>single</td>\n",
       "      <td>rented</td>\n",
       "      <td>no</td>\n",
       "      <td>Software_Developer</td>\n",
       "      <td>Parbhani</td>\n",
       "      <td>Maharashtra</td>\n",
       "      <td>9</td>\n",
       "      <td>13</td>\n",
       "      <td>0</td>\n",
       "    </tr>\n",
       "    <tr>\n",
       "      <th>2</th>\n",
       "      <td>3</td>\n",
       "      <td>3991815</td>\n",
       "      <td>66</td>\n",
       "      <td>4</td>\n",
       "      <td>married</td>\n",
       "      <td>rented</td>\n",
       "      <td>no</td>\n",
       "      <td>Technical_writer</td>\n",
       "      <td>Alappuzha</td>\n",
       "      <td>Kerala</td>\n",
       "      <td>4</td>\n",
       "      <td>10</td>\n",
       "      <td>0</td>\n",
       "    </tr>\n",
       "    <tr>\n",
       "      <th>3</th>\n",
       "      <td>4</td>\n",
       "      <td>6256451</td>\n",
       "      <td>41</td>\n",
       "      <td>2</td>\n",
       "      <td>single</td>\n",
       "      <td>rented</td>\n",
       "      <td>yes</td>\n",
       "      <td>Software_Developer</td>\n",
       "      <td>Bhubaneswar</td>\n",
       "      <td>Odisha</td>\n",
       "      <td>2</td>\n",
       "      <td>12</td>\n",
       "      <td>1</td>\n",
       "    </tr>\n",
       "    <tr>\n",
       "      <th>4</th>\n",
       "      <td>5</td>\n",
       "      <td>5768871</td>\n",
       "      <td>47</td>\n",
       "      <td>11</td>\n",
       "      <td>single</td>\n",
       "      <td>rented</td>\n",
       "      <td>no</td>\n",
       "      <td>Civil_servant</td>\n",
       "      <td>Tiruchirappalli[10]</td>\n",
       "      <td>Tamil_Nadu</td>\n",
       "      <td>3</td>\n",
       "      <td>14</td>\n",
       "      <td>1</td>\n",
       "    </tr>\n",
       "  </tbody>\n",
       "</table>\n",
       "</div>"
      ],
      "text/plain": [
       "   Id   Income  Age  Experience Married/Single House_Ownership Car_Ownership  \\\n",
       "0   1  1303834   23           3         single          rented            no   \n",
       "1   2  7574516   40          10         single          rented            no   \n",
       "2   3  3991815   66           4        married          rented            no   \n",
       "3   4  6256451   41           2         single          rented           yes   \n",
       "4   5  5768871   47          11         single          rented            no   \n",
       "\n",
       "            Profession                 CITY           STATE  CURRENT_JOB_YRS  \\\n",
       "0  Mechanical_engineer                 Rewa  Madhya_Pradesh                3   \n",
       "1   Software_Developer             Parbhani     Maharashtra                9   \n",
       "2     Technical_writer            Alappuzha          Kerala                4   \n",
       "3   Software_Developer          Bhubaneswar          Odisha                2   \n",
       "4        Civil_servant  Tiruchirappalli[10]      Tamil_Nadu                3   \n",
       "\n",
       "   CURRENT_HOUSE_YRS  Risk_Flag  \n",
       "0                 13          0  \n",
       "1                 13          0  \n",
       "2                 10          0  \n",
       "3                 12          1  \n",
       "4                 14          1  "
      ]
     },
     "execution_count": 3,
     "metadata": {},
     "output_type": "execute_result"
    }
   ],
   "source": [
    "path = '/kaggle/input/loan-prediction-based-on-customer-behavior/Training Data.csv'\n",
    "pd.set_option('display.max_columns', None)\n",
    "data = pd.read_csv(path)\n",
    "data.head()"
   ]
  },
  {
   "cell_type": "markdown",
   "id": "38acd054",
   "metadata": {
    "papermill": {
     "duration": 0.066484,
     "end_time": "2021-12-21T14:32:44.141871",
     "exception": false,
     "start_time": "2021-12-21T14:32:44.075387",
     "status": "completed"
    },
    "tags": []
   },
   "source": [
    "# Data analysis"
   ]
  },
  {
   "cell_type": "markdown",
   "id": "98bf21c4",
   "metadata": {
    "papermill": {
     "duration": 0.06654,
     "end_time": "2021-12-21T14:32:44.275523",
     "exception": false,
     "start_time": "2021-12-21T14:32:44.208983",
     "status": "completed"
    },
    "tags": []
   },
   "source": [
    "Before diving into model testing, we have to get familiar with the data and understand what it represents."
   ]
  },
  {
   "cell_type": "code",
   "execution_count": 4,
   "id": "41f9275c",
   "metadata": {
    "execution": {
     "iopub.execute_input": "2021-12-21T14:32:44.419696Z",
     "iopub.status.busy": "2021-12-21T14:32:44.419073Z",
     "iopub.status.idle": "2021-12-21T14:32:45.055045Z",
     "shell.execute_reply": "2021-12-21T14:32:45.055552Z",
     "shell.execute_reply.started": "2021-12-21T12:20:52.661077Z"
    },
    "papermill": {
     "duration": 0.713095,
     "end_time": "2021-12-21T14:32:45.055750",
     "exception": false,
     "start_time": "2021-12-21T14:32:44.342655",
     "status": "completed"
    },
    "tags": []
   },
   "outputs": [
    {
     "data": {
      "text/html": [
       "<div>\n",
       "<style scoped>\n",
       "    .dataframe tbody tr th:only-of-type {\n",
       "        vertical-align: middle;\n",
       "    }\n",
       "\n",
       "    .dataframe tbody tr th {\n",
       "        vertical-align: top;\n",
       "    }\n",
       "\n",
       "    .dataframe thead th {\n",
       "        text-align: right;\n",
       "    }\n",
       "</style>\n",
       "<table border=\"1\" class=\"dataframe\">\n",
       "  <thead>\n",
       "    <tr style=\"text-align: right;\">\n",
       "      <th></th>\n",
       "      <th>Id</th>\n",
       "      <th>Income</th>\n",
       "      <th>Age</th>\n",
       "      <th>Experience</th>\n",
       "      <th>Married/Single</th>\n",
       "      <th>House_Ownership</th>\n",
       "      <th>Car_Ownership</th>\n",
       "      <th>Profession</th>\n",
       "      <th>CITY</th>\n",
       "      <th>STATE</th>\n",
       "      <th>CURRENT_JOB_YRS</th>\n",
       "      <th>CURRENT_HOUSE_YRS</th>\n",
       "      <th>Risk_Flag</th>\n",
       "    </tr>\n",
       "  </thead>\n",
       "  <tbody>\n",
       "    <tr>\n",
       "      <th>count</th>\n",
       "      <td>252000.000000</td>\n",
       "      <td>2.520000e+05</td>\n",
       "      <td>252000.000000</td>\n",
       "      <td>252000.000000</td>\n",
       "      <td>252000</td>\n",
       "      <td>252000</td>\n",
       "      <td>252000</td>\n",
       "      <td>252000</td>\n",
       "      <td>252000</td>\n",
       "      <td>252000</td>\n",
       "      <td>252000.000000</td>\n",
       "      <td>252000.000000</td>\n",
       "      <td>252000.000000</td>\n",
       "    </tr>\n",
       "    <tr>\n",
       "      <th>unique</th>\n",
       "      <td>NaN</td>\n",
       "      <td>NaN</td>\n",
       "      <td>NaN</td>\n",
       "      <td>NaN</td>\n",
       "      <td>2</td>\n",
       "      <td>3</td>\n",
       "      <td>2</td>\n",
       "      <td>51</td>\n",
       "      <td>317</td>\n",
       "      <td>29</td>\n",
       "      <td>NaN</td>\n",
       "      <td>NaN</td>\n",
       "      <td>NaN</td>\n",
       "    </tr>\n",
       "    <tr>\n",
       "      <th>top</th>\n",
       "      <td>NaN</td>\n",
       "      <td>NaN</td>\n",
       "      <td>NaN</td>\n",
       "      <td>NaN</td>\n",
       "      <td>single</td>\n",
       "      <td>rented</td>\n",
       "      <td>no</td>\n",
       "      <td>Physician</td>\n",
       "      <td>Vijayanagaram</td>\n",
       "      <td>Uttar_Pradesh</td>\n",
       "      <td>NaN</td>\n",
       "      <td>NaN</td>\n",
       "      <td>NaN</td>\n",
       "    </tr>\n",
       "    <tr>\n",
       "      <th>freq</th>\n",
       "      <td>NaN</td>\n",
       "      <td>NaN</td>\n",
       "      <td>NaN</td>\n",
       "      <td>NaN</td>\n",
       "      <td>226272</td>\n",
       "      <td>231898</td>\n",
       "      <td>176000</td>\n",
       "      <td>5957</td>\n",
       "      <td>1259</td>\n",
       "      <td>28400</td>\n",
       "      <td>NaN</td>\n",
       "      <td>NaN</td>\n",
       "      <td>NaN</td>\n",
       "    </tr>\n",
       "    <tr>\n",
       "      <th>mean</th>\n",
       "      <td>126000.500000</td>\n",
       "      <td>4.997117e+06</td>\n",
       "      <td>49.954071</td>\n",
       "      <td>10.084437</td>\n",
       "      <td>NaN</td>\n",
       "      <td>NaN</td>\n",
       "      <td>NaN</td>\n",
       "      <td>NaN</td>\n",
       "      <td>NaN</td>\n",
       "      <td>NaN</td>\n",
       "      <td>6.333877</td>\n",
       "      <td>11.997794</td>\n",
       "      <td>0.123000</td>\n",
       "    </tr>\n",
       "    <tr>\n",
       "      <th>std</th>\n",
       "      <td>72746.278255</td>\n",
       "      <td>2.878311e+06</td>\n",
       "      <td>17.063855</td>\n",
       "      <td>6.002590</td>\n",
       "      <td>NaN</td>\n",
       "      <td>NaN</td>\n",
       "      <td>NaN</td>\n",
       "      <td>NaN</td>\n",
       "      <td>NaN</td>\n",
       "      <td>NaN</td>\n",
       "      <td>3.647053</td>\n",
       "      <td>1.399037</td>\n",
       "      <td>0.328438</td>\n",
       "    </tr>\n",
       "    <tr>\n",
       "      <th>min</th>\n",
       "      <td>1.000000</td>\n",
       "      <td>1.031000e+04</td>\n",
       "      <td>21.000000</td>\n",
       "      <td>0.000000</td>\n",
       "      <td>NaN</td>\n",
       "      <td>NaN</td>\n",
       "      <td>NaN</td>\n",
       "      <td>NaN</td>\n",
       "      <td>NaN</td>\n",
       "      <td>NaN</td>\n",
       "      <td>0.000000</td>\n",
       "      <td>10.000000</td>\n",
       "      <td>0.000000</td>\n",
       "    </tr>\n",
       "    <tr>\n",
       "      <th>25%</th>\n",
       "      <td>63000.750000</td>\n",
       "      <td>2.503015e+06</td>\n",
       "      <td>35.000000</td>\n",
       "      <td>5.000000</td>\n",
       "      <td>NaN</td>\n",
       "      <td>NaN</td>\n",
       "      <td>NaN</td>\n",
       "      <td>NaN</td>\n",
       "      <td>NaN</td>\n",
       "      <td>NaN</td>\n",
       "      <td>3.000000</td>\n",
       "      <td>11.000000</td>\n",
       "      <td>0.000000</td>\n",
       "    </tr>\n",
       "    <tr>\n",
       "      <th>50%</th>\n",
       "      <td>126000.500000</td>\n",
       "      <td>5.000694e+06</td>\n",
       "      <td>50.000000</td>\n",
       "      <td>10.000000</td>\n",
       "      <td>NaN</td>\n",
       "      <td>NaN</td>\n",
       "      <td>NaN</td>\n",
       "      <td>NaN</td>\n",
       "      <td>NaN</td>\n",
       "      <td>NaN</td>\n",
       "      <td>6.000000</td>\n",
       "      <td>12.000000</td>\n",
       "      <td>0.000000</td>\n",
       "    </tr>\n",
       "    <tr>\n",
       "      <th>75%</th>\n",
       "      <td>189000.250000</td>\n",
       "      <td>7.477502e+06</td>\n",
       "      <td>65.000000</td>\n",
       "      <td>15.000000</td>\n",
       "      <td>NaN</td>\n",
       "      <td>NaN</td>\n",
       "      <td>NaN</td>\n",
       "      <td>NaN</td>\n",
       "      <td>NaN</td>\n",
       "      <td>NaN</td>\n",
       "      <td>9.000000</td>\n",
       "      <td>13.000000</td>\n",
       "      <td>0.000000</td>\n",
       "    </tr>\n",
       "    <tr>\n",
       "      <th>max</th>\n",
       "      <td>252000.000000</td>\n",
       "      <td>9.999938e+06</td>\n",
       "      <td>79.000000</td>\n",
       "      <td>20.000000</td>\n",
       "      <td>NaN</td>\n",
       "      <td>NaN</td>\n",
       "      <td>NaN</td>\n",
       "      <td>NaN</td>\n",
       "      <td>NaN</td>\n",
       "      <td>NaN</td>\n",
       "      <td>14.000000</td>\n",
       "      <td>14.000000</td>\n",
       "      <td>1.000000</td>\n",
       "    </tr>\n",
       "  </tbody>\n",
       "</table>\n",
       "</div>"
      ],
      "text/plain": [
       "                   Id        Income            Age     Experience  \\\n",
       "count   252000.000000  2.520000e+05  252000.000000  252000.000000   \n",
       "unique            NaN           NaN            NaN            NaN   \n",
       "top               NaN           NaN            NaN            NaN   \n",
       "freq              NaN           NaN            NaN            NaN   \n",
       "mean    126000.500000  4.997117e+06      49.954071      10.084437   \n",
       "std      72746.278255  2.878311e+06      17.063855       6.002590   \n",
       "min          1.000000  1.031000e+04      21.000000       0.000000   \n",
       "25%      63000.750000  2.503015e+06      35.000000       5.000000   \n",
       "50%     126000.500000  5.000694e+06      50.000000      10.000000   \n",
       "75%     189000.250000  7.477502e+06      65.000000      15.000000   \n",
       "max     252000.000000  9.999938e+06      79.000000      20.000000   \n",
       "\n",
       "       Married/Single House_Ownership Car_Ownership Profession           CITY  \\\n",
       "count          252000          252000        252000     252000         252000   \n",
       "unique              2               3             2         51            317   \n",
       "top            single          rented            no  Physician  Vijayanagaram   \n",
       "freq           226272          231898        176000       5957           1259   \n",
       "mean              NaN             NaN           NaN        NaN            NaN   \n",
       "std               NaN             NaN           NaN        NaN            NaN   \n",
       "min               NaN             NaN           NaN        NaN            NaN   \n",
       "25%               NaN             NaN           NaN        NaN            NaN   \n",
       "50%               NaN             NaN           NaN        NaN            NaN   \n",
       "75%               NaN             NaN           NaN        NaN            NaN   \n",
       "max               NaN             NaN           NaN        NaN            NaN   \n",
       "\n",
       "                STATE  CURRENT_JOB_YRS  CURRENT_HOUSE_YRS      Risk_Flag  \n",
       "count          252000    252000.000000      252000.000000  252000.000000  \n",
       "unique             29              NaN                NaN            NaN  \n",
       "top     Uttar_Pradesh              NaN                NaN            NaN  \n",
       "freq            28400              NaN                NaN            NaN  \n",
       "mean              NaN         6.333877          11.997794       0.123000  \n",
       "std               NaN         3.647053           1.399037       0.328438  \n",
       "min               NaN         0.000000          10.000000       0.000000  \n",
       "25%               NaN         3.000000          11.000000       0.000000  \n",
       "50%               NaN         6.000000          12.000000       0.000000  \n",
       "75%               NaN         9.000000          13.000000       0.000000  \n",
       "max               NaN        14.000000          14.000000       1.000000  "
      ]
     },
     "execution_count": 4,
     "metadata": {},
     "output_type": "execute_result"
    }
   ],
   "source": [
    "data.describe(include='all')"
   ]
  },
  {
   "cell_type": "code",
   "execution_count": 5,
   "id": "8aa2457b",
   "metadata": {
    "execution": {
     "iopub.execute_input": "2021-12-21T14:32:45.197153Z",
     "iopub.status.busy": "2021-12-21T14:32:45.196486Z",
     "iopub.status.idle": "2021-12-21T14:32:45.362013Z",
     "shell.execute_reply": "2021-12-21T14:32:45.362579Z",
     "shell.execute_reply.started": "2021-12-21T12:20:53.206103Z"
    },
    "papermill": {
     "duration": 0.23882,
     "end_time": "2021-12-21T14:32:45.362786",
     "exception": false,
     "start_time": "2021-12-21T14:32:45.123966",
     "status": "completed"
    },
    "tags": []
   },
   "outputs": [
    {
     "name": "stdout",
     "output_type": "stream",
     "text": [
      "<class 'pandas.core.frame.DataFrame'>\n",
      "RangeIndex: 252000 entries, 0 to 251999\n",
      "Data columns (total 13 columns):\n",
      " #   Column             Non-Null Count   Dtype \n",
      "---  ------             --------------   ----- \n",
      " 0   Id                 252000 non-null  int64 \n",
      " 1   Income             252000 non-null  int64 \n",
      " 2   Age                252000 non-null  int64 \n",
      " 3   Experience         252000 non-null  int64 \n",
      " 4   Married/Single     252000 non-null  object\n",
      " 5   House_Ownership    252000 non-null  object\n",
      " 6   Car_Ownership      252000 non-null  object\n",
      " 7   Profession         252000 non-null  object\n",
      " 8   CITY               252000 non-null  object\n",
      " 9   STATE              252000 non-null  object\n",
      " 10  CURRENT_JOB_YRS    252000 non-null  int64 \n",
      " 11  CURRENT_HOUSE_YRS  252000 non-null  int64 \n",
      " 12  Risk_Flag          252000 non-null  int64 \n",
      "dtypes: int64(7), object(6)\n",
      "memory usage: 25.0+ MB\n"
     ]
    }
   ],
   "source": [
    "data.info()"
   ]
  },
  {
   "cell_type": "markdown",
   "id": "45f8873d",
   "metadata": {
    "papermill": {
     "duration": 0.068523,
     "end_time": "2021-12-21T14:32:45.501068",
     "exception": false,
     "start_time": "2021-12-21T14:32:45.432545",
     "status": "completed"
    },
    "tags": []
   },
   "source": [
    "We have multiple categorical data, since we will test various models and not only tree based models, we should econde these variables. <br>\n",
    "However we can see we do not have any missing values in our data."
   ]
  },
  {
   "cell_type": "markdown",
   "id": "27dcb648",
   "metadata": {
    "papermill": {
     "duration": 0.06851,
     "end_time": "2021-12-21T14:32:45.638555",
     "exception": false,
     "start_time": "2021-12-21T14:32:45.570045",
     "status": "completed"
    },
    "tags": []
   },
   "source": [
    "## Age"
   ]
  },
  {
   "cell_type": "code",
   "execution_count": 6,
   "id": "cab2e0c1",
   "metadata": {
    "execution": {
     "iopub.execute_input": "2021-12-21T14:32:45.779692Z",
     "iopub.status.busy": "2021-12-21T14:32:45.778745Z",
     "iopub.status.idle": "2021-12-21T14:32:45.965848Z",
     "shell.execute_reply": "2021-12-21T14:32:45.964998Z",
     "shell.execute_reply.started": "2021-12-21T12:20:53.351172Z"
    },
    "papermill": {
     "duration": 0.25897,
     "end_time": "2021-12-21T14:32:45.966024",
     "exception": false,
     "start_time": "2021-12-21T14:32:45.707054",
     "status": "completed"
    },
    "tags": []
   },
   "outputs": [
    {
     "data": {
      "text/html": [
       "<div>\n",
       "<style scoped>\n",
       "    .dataframe tbody tr th:only-of-type {\n",
       "        vertical-align: middle;\n",
       "    }\n",
       "\n",
       "    .dataframe tbody tr th {\n",
       "        vertical-align: top;\n",
       "    }\n",
       "\n",
       "    .dataframe thead th {\n",
       "        text-align: right;\n",
       "    }\n",
       "</style>\n",
       "<table border=\"1\" class=\"dataframe\">\n",
       "  <thead>\n",
       "    <tr style=\"text-align: right;\">\n",
       "      <th></th>\n",
       "      <th>count</th>\n",
       "      <th>mean</th>\n",
       "      <th>std</th>\n",
       "      <th>min</th>\n",
       "      <th>25%</th>\n",
       "      <th>50%</th>\n",
       "      <th>75%</th>\n",
       "      <th>max</th>\n",
       "    </tr>\n",
       "    <tr>\n",
       "      <th>Risk_Flag</th>\n",
       "      <th></th>\n",
       "      <th></th>\n",
       "      <th></th>\n",
       "      <th></th>\n",
       "      <th></th>\n",
       "      <th></th>\n",
       "      <th></th>\n",
       "      <th></th>\n",
       "    </tr>\n",
       "  </thead>\n",
       "  <tbody>\n",
       "    <tr>\n",
       "      <th>0</th>\n",
       "      <td>221004.0</td>\n",
       "      <td>50.093442</td>\n",
       "      <td>17.016058</td>\n",
       "      <td>21.0</td>\n",
       "      <td>35.0</td>\n",
       "      <td>50.0</td>\n",
       "      <td>65.0</td>\n",
       "      <td>79.0</td>\n",
       "    </tr>\n",
       "    <tr>\n",
       "      <th>1</th>\n",
       "      <td>30996.0</td>\n",
       "      <td>48.960350</td>\n",
       "      <td>17.368740</td>\n",
       "      <td>21.0</td>\n",
       "      <td>33.0</td>\n",
       "      <td>49.0</td>\n",
       "      <td>64.0</td>\n",
       "      <td>79.0</td>\n",
       "    </tr>\n",
       "  </tbody>\n",
       "</table>\n",
       "</div>"
      ],
      "text/plain": [
       "              count       mean        std   min   25%   50%   75%   max\n",
       "Risk_Flag                                                              \n",
       "0          221004.0  50.093442  17.016058  21.0  35.0  50.0  65.0  79.0\n",
       "1           30996.0  48.960350  17.368740  21.0  33.0  49.0  64.0  79.0"
      ]
     },
     "execution_count": 6,
     "metadata": {},
     "output_type": "execute_result"
    }
   ],
   "source": [
    "data.groupby('Risk_Flag').describe()['Age']"
   ]
  },
  {
   "cell_type": "markdown",
   "id": "5e5ce5b4",
   "metadata": {
    "papermill": {
     "duration": 0.068991,
     "end_time": "2021-12-21T14:32:46.105497",
     "exception": false,
     "start_time": "2021-12-21T14:32:46.036506",
     "status": "completed"
    },
    "tags": []
   },
   "source": [
    "We can see that the minimum age, maximum age, and even average age does not affect the risk flag variable. <br>\n",
    "Also we can see that both (0 and 1) have the same difference between the age groups and the mean: standard deviation of 17."
   ]
  },
  {
   "cell_type": "code",
   "execution_count": 7,
   "id": "e9a9339a",
   "metadata": {
    "execution": {
     "iopub.execute_input": "2021-12-21T14:32:46.248206Z",
     "iopub.status.busy": "2021-12-21T14:32:46.247496Z",
     "iopub.status.idle": "2021-12-21T14:32:46.267103Z",
     "shell.execute_reply": "2021-12-21T14:32:46.267676Z",
     "shell.execute_reply.started": "2021-12-21T12:20:53.518007Z"
    },
    "papermill": {
     "duration": 0.092192,
     "end_time": "2021-12-21T14:32:46.267875",
     "exception": false,
     "start_time": "2021-12-21T14:32:46.175683",
     "status": "completed"
    },
    "tags": []
   },
   "outputs": [
    {
     "data": {
      "text/plain": [
       "22    770\n",
       "66    737\n",
       "27    720\n",
       "26    719\n",
       "33    719\n",
       "76    666\n",
       "54    660\n",
       "24    631\n",
       "47    616\n",
       "28    602\n",
       "21    598\n",
       "59    591\n",
       "45    589\n",
       "30    589\n",
       "25    584\n",
       "55    582\n",
       "48    578\n",
       "41    570\n",
       "72    570\n",
       "29    569\n",
       "Name: Age, dtype: int64"
      ]
     },
     "execution_count": 7,
     "metadata": {},
     "output_type": "execute_result"
    }
   ],
   "source": [
    "data[data['Risk_Flag'] == 1]['Age'].value_counts(sort=True)[:20]"
   ]
  },
  {
   "cell_type": "markdown",
   "id": "64f13724",
   "metadata": {
    "papermill": {
     "duration": 0.070141,
     "end_time": "2021-12-21T14:32:46.407004",
     "exception": false,
     "start_time": "2021-12-21T14:32:46.336863",
     "status": "completed"
    },
    "tags": []
   },
   "source": [
    "There is not a big difference between the top 5 of the Risk Flag list, however starting from the sixth position the difference grow, but the distribution of age groups is normal, since we don't have a certain age group repeating. As we can see the first place is for people aged 22, second place for people aged 66."
   ]
  },
  {
   "cell_type": "markdown",
   "id": "899b6539",
   "metadata": {
    "papermill": {
     "duration": 0.068467,
     "end_time": "2021-12-21T14:32:46.544389",
     "exception": false,
     "start_time": "2021-12-21T14:32:46.475922",
     "status": "completed"
    },
    "tags": []
   },
   "source": [
    "## Marital status"
   ]
  },
  {
   "cell_type": "code",
   "execution_count": 8,
   "id": "00c2f6c4",
   "metadata": {
    "execution": {
     "iopub.execute_input": "2021-12-21T14:32:46.686415Z",
     "iopub.status.busy": "2021-12-21T14:32:46.685745Z",
     "iopub.status.idle": "2021-12-21T14:32:46.732077Z",
     "shell.execute_reply": "2021-12-21T14:32:46.732619Z",
     "shell.execute_reply.started": "2021-12-21T12:20:53.541327Z"
    },
    "papermill": {
     "duration": 0.119478,
     "end_time": "2021-12-21T14:32:46.732821",
     "exception": false,
     "start_time": "2021-12-21T14:32:46.613343",
     "status": "completed"
    },
    "tags": []
   },
   "outputs": [
    {
     "data": {
      "text/plain": [
       "Risk_Flag  Married/Single\n",
       "0          single            197912\n",
       "           married            23092\n",
       "1          single             28360\n",
       "           married             2636\n",
       "Name: Married/Single, dtype: int64"
      ]
     },
     "execution_count": 8,
     "metadata": {},
     "output_type": "execute_result"
    }
   ],
   "source": [
    "data.groupby('Risk_Flag')['Married/Single'].value_counts()"
   ]
  },
  {
   "cell_type": "markdown",
   "id": "81936552",
   "metadata": {
    "papermill": {
     "duration": 0.069102,
     "end_time": "2021-12-21T14:32:46.872331",
     "exception": false,
     "start_time": "2021-12-21T14:32:46.803229",
     "status": "completed"
    },
    "tags": []
   },
   "source": [
    "Here we can see that single people are more risky, 91% of risky flag people are single. But actually this can't tell much since most of people that apply are single."
   ]
  },
  {
   "cell_type": "code",
   "execution_count": 9,
   "id": "8e42ffdc",
   "metadata": {
    "execution": {
     "iopub.execute_input": "2021-12-21T14:32:47.017264Z",
     "iopub.status.busy": "2021-12-21T14:32:47.016541Z",
     "iopub.status.idle": "2021-12-21T14:32:47.329471Z",
     "shell.execute_reply": "2021-12-21T14:32:47.330045Z",
     "shell.execute_reply.started": "2021-12-21T12:20:53.587481Z"
    },
    "papermill": {
     "duration": 0.387827,
     "end_time": "2021-12-21T14:32:47.330235",
     "exception": false,
     "start_time": "2021-12-21T14:32:46.942408",
     "status": "completed"
    },
    "tags": []
   },
   "outputs": [
    {
     "data": {
      "text/plain": [
       "<AxesSubplot:>"
      ]
     },
     "execution_count": 9,
     "metadata": {},
     "output_type": "execute_result"
    },
    {
     "data": {
      "image/png": "[encoded data removed]",
      "text/plain": [
       "<Figure size 432x288 with 1 Axes>"
      ]
     },
     "metadata": {},
     "output_type": "display_data"
    }
   ],
   "source": [
    "data['Married/Single'].hist()"
   ]
  },
  {
   "cell_type": "markdown",
   "id": "6b538bfb",
   "metadata": {
    "papermill": {
     "duration": 0.071164,
     "end_time": "2021-12-21T14:32:47.472556",
     "exception": false,
     "start_time": "2021-12-21T14:32:47.401392",
     "status": "completed"
    },
    "tags": []
   },
   "source": [
    "## Income"
   ]
  },
  {
   "cell_type": "code",
   "execution_count": 10,
   "id": "ea7c734c",
   "metadata": {
    "execution": {
     "iopub.execute_input": "2021-12-21T14:32:47.617497Z",
     "iopub.status.busy": "2021-12-21T14:32:47.616881Z",
     "iopub.status.idle": "2021-12-21T14:32:49.244397Z",
     "shell.execute_reply": "2021-12-21T14:32:49.243343Z",
     "shell.execute_reply.started": "2021-12-21T12:20:54.021887Z"
    },
    "papermill": {
     "duration": 1.700953,
     "end_time": "2021-12-21T14:32:49.244655",
     "exception": false,
     "start_time": "2021-12-21T14:32:47.543702",
     "status": "completed"
    },
    "tags": []
   },
   "outputs": [
    {
     "name": "stderr",
     "output_type": "stream",
     "text": [
      "/opt/conda/lib/python3.7/site-packages/seaborn/distributions.py:2557: FutureWarning: `distplot` is a deprecated function and will be removed in a future version. Please adapt your code to use either `displot` (a figure-level function with similar flexibility) or `histplot` (an axes-level function for histograms).\n",
      "  warnings.warn(msg, FutureWarning)\n"
     ]
    },
    {
     "data": {
      "image/png": "[encoded data removed]",
      "text/plain": [
       "<Figure size 432x288 with 1 Axes>"
      ]
     },
     "metadata": {},
     "output_type": "display_data"
    }
   ],
   "source": [
    "sns.distplot(data['Income'], bins=20)\n",
    "plt.show()"
   ]
  },
  {
   "cell_type": "code",
   "execution_count": 11,
   "id": "8232564d",
   "metadata": {
    "execution": {
     "iopub.execute_input": "2021-12-21T14:32:49.392538Z",
     "iopub.status.busy": "2021-12-21T14:32:49.391602Z",
     "iopub.status.idle": "2021-12-21T14:32:49.760157Z",
     "shell.execute_reply": "2021-12-21T14:32:49.759449Z",
     "shell.execute_reply.started": "2021-12-21T12:20:55.758881Z"
    },
    "papermill": {
     "duration": 0.442838,
     "end_time": "2021-12-21T14:32:49.760311",
     "exception": false,
     "start_time": "2021-12-21T14:32:49.317473",
     "status": "completed"
    },
    "tags": []
   },
   "outputs": [
    {
     "data": {
      "text/plain": [
       "<AxesSubplot:>"
      ]
     },
     "execution_count": 11,
     "metadata": {},
     "output_type": "execute_result"
    },
    {
     "data": {
      "image/png": "[encoded data removed]",
      "text/plain": [
       "<Figure size 432x288 with 1 Axes>"
      ]
     },
     "metadata": {},
     "output_type": "display_data"
    }
   ],
   "source": [
    "data['Status'] = np.where(data['Income']>=data['Income'].mean(), 'Above Average', 'Under Average')\n",
    "data['Status'].hist()"
   ]
  },
  {
   "cell_type": "markdown",
   "id": "c76bead3",
   "metadata": {
    "papermill": {
     "duration": 0.072362,
     "end_time": "2021-12-21T14:32:49.905584",
     "exception": false,
     "start_time": "2021-12-21T14:32:49.833222",
     "status": "completed"
    },
    "tags": []
   },
   "source": [
    "The data is distributed equally between people with under average and above average income."
   ]
  },
  {
   "cell_type": "code",
   "execution_count": 12,
   "id": "3b72d535",
   "metadata": {
    "execution": {
     "iopub.execute_input": "2021-12-21T14:32:50.060297Z",
     "iopub.status.busy": "2021-12-21T14:32:50.059571Z",
     "iopub.status.idle": "2021-12-21T14:32:50.393845Z",
     "shell.execute_reply": "2021-12-21T14:32:50.393253Z",
     "shell.execute_reply.started": "2021-12-21T12:20:56.155085Z"
    },
    "papermill": {
     "duration": 0.414379,
     "end_time": "2021-12-21T14:32:50.394002",
     "exception": false,
     "start_time": "2021-12-21T14:32:49.979623",
     "status": "completed"
    },
    "tags": []
   },
   "outputs": [
    {
     "data": {
      "text/plain": [
       "Risk_Flag\n",
       "0    AxesSubplot(0.125,0.125;0.775x0.755)\n",
       "1    AxesSubplot(0.125,0.125;0.775x0.755)\n",
       "Name: Status, dtype: object"
      ]
     },
     "execution_count": 12,
     "metadata": {},
     "output_type": "execute_result"
    },
    {
     "data": {
      "image/png": "[encoded data removed]",
      "text/plain": [
       "<Figure size 432x288 with 1 Axes>"
      ]
     },
     "metadata": {},
     "output_type": "display_data"
    }
   ],
   "source": [
    "data.groupby('Risk_Flag')['Status'].hist()"
   ]
  },
  {
   "cell_type": "markdown",
   "id": "816a2792",
   "metadata": {
    "papermill": {
     "duration": 0.074478,
     "end_time": "2021-12-21T14:32:50.545355",
     "exception": false,
     "start_time": "2021-12-21T14:32:50.470877",
     "status": "completed"
    },
    "tags": []
   },
   "source": [
    "The income does not affect the risk flag variable of a person."
   ]
  },
  {
   "cell_type": "code",
   "execution_count": 13,
   "id": "5487ac16",
   "metadata": {
    "execution": {
     "iopub.execute_input": "2021-12-21T14:32:50.704669Z",
     "iopub.status.busy": "2021-12-21T14:32:50.703992Z",
     "iopub.status.idle": "2021-12-21T14:32:50.743357Z",
     "shell.execute_reply": "2021-12-21T14:32:50.742753Z",
     "shell.execute_reply.started": "2021-12-21T12:20:56.519315Z"
    },
    "papermill": {
     "duration": 0.120614,
     "end_time": "2021-12-21T14:32:50.743509",
     "exception": false,
     "start_time": "2021-12-21T14:32:50.622895",
     "status": "completed"
    },
    "tags": []
   },
   "outputs": [
    {
     "data": {
      "text/html": [
       "<div>\n",
       "<style scoped>\n",
       "    .dataframe tbody tr th:only-of-type {\n",
       "        vertical-align: middle;\n",
       "    }\n",
       "\n",
       "    .dataframe tbody tr th {\n",
       "        vertical-align: top;\n",
       "    }\n",
       "\n",
       "    .dataframe thead th {\n",
       "        text-align: right;\n",
       "    }\n",
       "</style>\n",
       "<table border=\"1\" class=\"dataframe\">\n",
       "  <thead>\n",
       "    <tr style=\"text-align: right;\">\n",
       "      <th></th>\n",
       "      <th>count</th>\n",
       "      <th>mean</th>\n",
       "      <th>std</th>\n",
       "      <th>min</th>\n",
       "      <th>25%</th>\n",
       "      <th>50%</th>\n",
       "      <th>75%</th>\n",
       "      <th>max</th>\n",
       "    </tr>\n",
       "    <tr>\n",
       "      <th>Risk_Flag</th>\n",
       "      <th></th>\n",
       "      <th></th>\n",
       "      <th></th>\n",
       "      <th></th>\n",
       "      <th></th>\n",
       "      <th></th>\n",
       "      <th></th>\n",
       "      <th></th>\n",
       "    </tr>\n",
       "  </thead>\n",
       "  <tbody>\n",
       "    <tr>\n",
       "      <th>0</th>\n",
       "      <td>221004.0</td>\n",
       "      <td>5.000449e+06</td>\n",
       "      <td>2.872255e+06</td>\n",
       "      <td>10310.0</td>\n",
       "      <td>2520632.75</td>\n",
       "      <td>5002134.0</td>\n",
       "      <td>7470480.0</td>\n",
       "      <td>9999938.0</td>\n",
       "    </tr>\n",
       "    <tr>\n",
       "      <th>1</th>\n",
       "      <td>30996.0</td>\n",
       "      <td>4.973359e+06</td>\n",
       "      <td>2.921065e+06</td>\n",
       "      <td>10675.0</td>\n",
       "      <td>2421029.00</td>\n",
       "      <td>4977653.0</td>\n",
       "      <td>7556052.0</td>\n",
       "      <td>9994501.0</td>\n",
       "    </tr>\n",
       "  </tbody>\n",
       "</table>\n",
       "</div>"
      ],
      "text/plain": [
       "              count          mean           std      min         25%  \\\n",
       "Risk_Flag                                                              \n",
       "0          221004.0  5.000449e+06  2.872255e+06  10310.0  2520632.75   \n",
       "1           30996.0  4.973359e+06  2.921065e+06  10675.0  2421029.00   \n",
       "\n",
       "                 50%        75%        max  \n",
       "Risk_Flag                                   \n",
       "0          5002134.0  7470480.0  9999938.0  \n",
       "1          4977653.0  7556052.0  9994501.0  "
      ]
     },
     "execution_count": 13,
     "metadata": {},
     "output_type": "execute_result"
    }
   ],
   "source": [
    "data.groupby(\"Risk_Flag\")['Income'].describe()"
   ]
  },
  {
   "cell_type": "markdown",
   "id": "7a108d98",
   "metadata": {
    "papermill": {
     "duration": 0.074117,
     "end_time": "2021-12-21T14:32:50.892575",
     "exception": false,
     "start_time": "2021-12-21T14:32:50.818458",
     "status": "completed"
    },
    "tags": []
   },
   "source": [
    "The average salary of Risk Flag group 1 is 0.3 e+06 smaller than the non risky group. Meanwhile other metrics for both groups are similar."
   ]
  },
  {
   "cell_type": "markdown",
   "id": "a934d764",
   "metadata": {
    "papermill": {
     "duration": 0.075425,
     "end_time": "2021-12-21T14:32:51.042993",
     "exception": false,
     "start_time": "2021-12-21T14:32:50.967568",
     "status": "completed"
    },
    "tags": []
   },
   "source": [
    "## State"
   ]
  },
  {
   "cell_type": "code",
   "execution_count": 14,
   "id": "cd6d8865",
   "metadata": {
    "execution": {
     "iopub.execute_input": "2021-12-21T14:32:51.198733Z",
     "iopub.status.busy": "2021-12-21T14:32:51.198105Z",
     "iopub.status.idle": "2021-12-21T14:32:51.257867Z",
     "shell.execute_reply": "2021-12-21T14:32:51.257252Z",
     "shell.execute_reply.started": "2021-12-21T12:20:56.56263Z"
    },
    "papermill": {
     "duration": 0.140113,
     "end_time": "2021-12-21T14:32:51.258037",
     "exception": false,
     "start_time": "2021-12-21T14:32:51.117924",
     "status": "completed"
    },
    "tags": []
   },
   "outputs": [
    {
     "data": {
      "text/plain": [
       "Risk_Flag  STATE            \n",
       "0          Uttar_Pradesh        25057\n",
       "           Maharashtra          22667\n",
       "           Andhra_Pradesh       22362\n",
       "           West_Bengal          20474\n",
       "           Bihar                17197\n",
       "           Tamil_Nadu           14831\n",
       "           Madhya_Pradesh       11942\n",
       "           Karnataka            10666\n",
       "           Gujarat              10065\n",
       "           Rajasthan             7882\n",
       "           Jharkhand             7770\n",
       "           Haryana               6910\n",
       "           Telangana             6545\n",
       "           Assam                 6132\n",
       "           Delhi                 4916\n",
       "           Kerala                4835\n",
       "           Punjab                4295\n",
       "           Odisha                3994\n",
       "           Chhattisgarh          3323\n",
       "           Uttarakhand           1741\n",
       "           Jammu_and_Kashmir     1497\n",
       "           Puducherry            1266\n",
       "           Mizoram                755\n",
       "           Himachal_Pradesh       722\n",
       "           Tripura                673\n",
       "           Manipur                666\n",
       "           Uttar_Pradesh[5]       646\n",
       "           Chandigarh             595\n",
       "           Sikkim                 580\n",
       "1          Uttar_Pradesh         3343\n",
       "           West_Bengal           3009\n",
       "           Andhra_Pradesh        2935\n",
       "           Maharashtra           2895\n",
       "           Bihar                 2583\n",
       "           Madhya_Pradesh        2180\n",
       "           Tamil_Nadu            1706\n",
       "           Gujarat               1343\n",
       "           Rajasthan             1292\n",
       "           Jharkhand             1195\n",
       "           Karnataka             1189\n",
       "           Haryana                980\n",
       "           Telangana              979\n",
       "           Kerala                 970\n",
       "           Assam                  930\n",
       "           Odisha                 664\n",
       "           Delhi                  574\n",
       "           Chhattisgarh           511\n",
       "           Punjab                 425\n",
       "           Jammu_and_Kashmir      283\n",
       "           Manipur                183\n",
       "           Puducherry             167\n",
       "           Tripura                136\n",
       "           Uttarakhand            133\n",
       "           Himachal_Pradesh       111\n",
       "           Uttar_Pradesh[5]        97\n",
       "           Mizoram                 94\n",
       "           Chandigarh              61\n",
       "           Sikkim                  28\n",
       "Name: STATE, dtype: int64"
      ]
     },
     "execution_count": 14,
     "metadata": {},
     "output_type": "execute_result"
    }
   ],
   "source": [
    "data.groupby(\"Risk_Flag\")['STATE'].value_counts(sort=True)"
   ]
  },
  {
   "cell_type": "markdown",
   "id": "829ebb75",
   "metadata": {
    "papermill": {
     "duration": 0.075555,
     "end_time": "2021-12-21T14:32:51.408774",
     "exception": false,
     "start_time": "2021-12-21T14:32:51.333219",
     "status": "completed"
    },
    "tags": []
   },
   "source": [
    "Uttar Pradesh ranks first in both groups which is normal since Uttar has the most number of applicants, "
   ]
  },
  {
   "cell_type": "code",
   "execution_count": 15,
   "id": "f39f2a92",
   "metadata": {
    "execution": {
     "iopub.execute_input": "2021-12-21T14:32:51.565450Z",
     "iopub.status.busy": "2021-12-21T14:32:51.564493Z",
     "iopub.status.idle": "2021-12-21T14:32:52.185204Z",
     "shell.execute_reply": "2021-12-21T14:32:52.185692Z",
     "shell.execute_reply.started": "2021-12-21T12:20:56.624719Z"
    },
    "papermill": {
     "duration": 0.700442,
     "end_time": "2021-12-21T14:32:52.185900",
     "exception": false,
     "start_time": "2021-12-21T14:32:51.485458",
     "status": "completed"
    },
    "tags": []
   },
   "outputs": [
    {
     "data": {
      "image/png": "[encoded data removed]",
      "text/plain": [
       "<Figure size 432x288 with 1 Axes>"
      ]
     },
     "metadata": {},
     "output_type": "display_data"
    }
   ],
   "source": [
    "sns.countplot(y='STATE', data=data)\n",
    "plt.show()"
   ]
  },
  {
   "cell_type": "markdown",
   "id": "d8595c31",
   "metadata": {
    "papermill": {
     "duration": 0.101563,
     "end_time": "2021-12-21T14:32:52.369659",
     "exception": false,
     "start_time": "2021-12-21T14:32:52.268096",
     "status": "completed"
    },
    "tags": []
   },
   "source": [
    "West Bengal ranks second with the most risky flags, even though it is the fourth city in the number of applicants."
   ]
  },
  {
   "cell_type": "code",
   "execution_count": 16,
   "id": "61fdfd9b",
   "metadata": {
    "execution": {
     "iopub.execute_input": "2021-12-21T14:32:52.528246Z",
     "iopub.status.busy": "2021-12-21T14:32:52.527324Z",
     "iopub.status.idle": "2021-12-21T14:32:52.654727Z",
     "shell.execute_reply": "2021-12-21T14:32:52.655263Z",
     "shell.execute_reply.started": "2021-12-21T12:20:57.248754Z"
    },
    "papermill": {
     "duration": 0.20807,
     "end_time": "2021-12-21T14:32:52.655468",
     "exception": false,
     "start_time": "2021-12-21T14:32:52.447398",
     "status": "completed"
    },
    "tags": []
   },
   "outputs": [
    {
     "data": {
      "text/html": [
       "<div>\n",
       "<style scoped>\n",
       "    .dataframe tbody tr th:only-of-type {\n",
       "        vertical-align: middle;\n",
       "    }\n",
       "\n",
       "    .dataframe tbody tr th {\n",
       "        vertical-align: top;\n",
       "    }\n",
       "\n",
       "    .dataframe thead th {\n",
       "        text-align: right;\n",
       "    }\n",
       "</style>\n",
       "<table border=\"1\" class=\"dataframe\">\n",
       "  <thead>\n",
       "    <tr style=\"text-align: right;\">\n",
       "      <th></th>\n",
       "      <th>Id</th>\n",
       "      <th>Income</th>\n",
       "      <th>Age</th>\n",
       "      <th>Experience</th>\n",
       "      <th>CURRENT_JOB_YRS</th>\n",
       "      <th>CURRENT_HOUSE_YRS</th>\n",
       "      <th>Risk_Flag</th>\n",
       "    </tr>\n",
       "  </thead>\n",
       "  <tbody>\n",
       "    <tr>\n",
       "      <th>count</th>\n",
       "      <td>23483.000000</td>\n",
       "      <td>2.348300e+04</td>\n",
       "      <td>23483.000000</td>\n",
       "      <td>23483.000000</td>\n",
       "      <td>23483.000000</td>\n",
       "      <td>23483.000000</td>\n",
       "      <td>23483.000000</td>\n",
       "    </tr>\n",
       "    <tr>\n",
       "      <th>mean</th>\n",
       "      <td>125954.237874</td>\n",
       "      <td>5.115302e+06</td>\n",
       "      <td>50.088915</td>\n",
       "      <td>9.916833</td>\n",
       "      <td>6.262658</td>\n",
       "      <td>11.975174</td>\n",
       "      <td>0.128135</td>\n",
       "    </tr>\n",
       "    <tr>\n",
       "      <th>std</th>\n",
       "      <td>72783.991484</td>\n",
       "      <td>2.895019e+06</td>\n",
       "      <td>17.002302</td>\n",
       "      <td>5.988934</td>\n",
       "      <td>3.562215</td>\n",
       "      <td>1.408640</td>\n",
       "      <td>0.334247</td>\n",
       "    </tr>\n",
       "    <tr>\n",
       "      <th>min</th>\n",
       "      <td>17.000000</td>\n",
       "      <td>1.031000e+04</td>\n",
       "      <td>21.000000</td>\n",
       "      <td>0.000000</td>\n",
       "      <td>0.000000</td>\n",
       "      <td>10.000000</td>\n",
       "      <td>0.000000</td>\n",
       "    </tr>\n",
       "    <tr>\n",
       "      <th>25%</th>\n",
       "      <td>63022.000000</td>\n",
       "      <td>2.570783e+06</td>\n",
       "      <td>35.000000</td>\n",
       "      <td>5.000000</td>\n",
       "      <td>4.000000</td>\n",
       "      <td>11.000000</td>\n",
       "      <td>0.000000</td>\n",
       "    </tr>\n",
       "    <tr>\n",
       "      <th>50%</th>\n",
       "      <td>126079.000000</td>\n",
       "      <td>5.134357e+06</td>\n",
       "      <td>50.000000</td>\n",
       "      <td>10.000000</td>\n",
       "      <td>6.000000</td>\n",
       "      <td>12.000000</td>\n",
       "      <td>0.000000</td>\n",
       "    </tr>\n",
       "    <tr>\n",
       "      <th>75%</th>\n",
       "      <td>188979.500000</td>\n",
       "      <td>7.552268e+06</td>\n",
       "      <td>65.000000</td>\n",
       "      <td>15.000000</td>\n",
       "      <td>9.000000</td>\n",
       "      <td>13.000000</td>\n",
       "      <td>0.000000</td>\n",
       "    </tr>\n",
       "    <tr>\n",
       "      <th>max</th>\n",
       "      <td>251996.000000</td>\n",
       "      <td>9.989145e+06</td>\n",
       "      <td>79.000000</td>\n",
       "      <td>20.000000</td>\n",
       "      <td>14.000000</td>\n",
       "      <td>14.000000</td>\n",
       "      <td>1.000000</td>\n",
       "    </tr>\n",
       "  </tbody>\n",
       "</table>\n",
       "</div>"
      ],
      "text/plain": [
       "                  Id        Income           Age    Experience  \\\n",
       "count   23483.000000  2.348300e+04  23483.000000  23483.000000   \n",
       "mean   125954.237874  5.115302e+06     50.088915      9.916833   \n",
       "std     72783.991484  2.895019e+06     17.002302      5.988934   \n",
       "min        17.000000  1.031000e+04     21.000000      0.000000   \n",
       "25%     63022.000000  2.570783e+06     35.000000      5.000000   \n",
       "50%    126079.000000  5.134357e+06     50.000000     10.000000   \n",
       "75%    188979.500000  7.552268e+06     65.000000     15.000000   \n",
       "max    251996.000000  9.989145e+06     79.000000     20.000000   \n",
       "\n",
       "       CURRENT_JOB_YRS  CURRENT_HOUSE_YRS     Risk_Flag  \n",
       "count     23483.000000       23483.000000  23483.000000  \n",
       "mean          6.262658          11.975174      0.128135  \n",
       "std           3.562215           1.408640      0.334247  \n",
       "min           0.000000          10.000000      0.000000  \n",
       "25%           4.000000          11.000000      0.000000  \n",
       "50%           6.000000          12.000000      0.000000  \n",
       "75%           9.000000          13.000000      0.000000  \n",
       "max          14.000000          14.000000      1.000000  "
      ]
     },
     "execution_count": 16,
     "metadata": {},
     "output_type": "execute_result"
    }
   ],
   "source": [
    "data[data['STATE'] == 'West_Bengal'].describe()"
   ]
  },
  {
   "cell_type": "code",
   "execution_count": 17,
   "id": "caa9132e",
   "metadata": {
    "execution": {
     "iopub.execute_input": "2021-12-21T14:32:52.814302Z",
     "iopub.status.busy": "2021-12-21T14:32:52.813341Z",
     "iopub.status.idle": "2021-12-21T14:32:52.901437Z",
     "shell.execute_reply": "2021-12-21T14:32:52.900888Z",
     "shell.execute_reply.started": "2021-12-21T12:20:57.368632Z"
    },
    "papermill": {
     "duration": 0.168952,
     "end_time": "2021-12-21T14:32:52.901601",
     "exception": false,
     "start_time": "2021-12-21T14:32:52.732649",
     "status": "completed"
    },
    "tags": []
   },
   "outputs": [
    {
     "data": {
      "text/html": [
       "<div>\n",
       "<style scoped>\n",
       "    .dataframe tbody tr th:only-of-type {\n",
       "        vertical-align: middle;\n",
       "    }\n",
       "\n",
       "    .dataframe tbody tr th {\n",
       "        vertical-align: top;\n",
       "    }\n",
       "\n",
       "    .dataframe thead th {\n",
       "        text-align: right;\n",
       "    }\n",
       "</style>\n",
       "<table border=\"1\" class=\"dataframe\">\n",
       "  <thead>\n",
       "    <tr style=\"text-align: right;\">\n",
       "      <th></th>\n",
       "      <th>Id</th>\n",
       "      <th>Income</th>\n",
       "      <th>Age</th>\n",
       "      <th>Experience</th>\n",
       "      <th>CURRENT_JOB_YRS</th>\n",
       "      <th>CURRENT_HOUSE_YRS</th>\n",
       "      <th>Risk_Flag</th>\n",
       "    </tr>\n",
       "  </thead>\n",
       "  <tbody>\n",
       "    <tr>\n",
       "      <th>count</th>\n",
       "      <td>252000.000000</td>\n",
       "      <td>2.520000e+05</td>\n",
       "      <td>252000.000000</td>\n",
       "      <td>252000.000000</td>\n",
       "      <td>252000.000000</td>\n",
       "      <td>252000.000000</td>\n",
       "      <td>252000.000000</td>\n",
       "    </tr>\n",
       "    <tr>\n",
       "      <th>mean</th>\n",
       "      <td>126000.500000</td>\n",
       "      <td>4.997117e+06</td>\n",
       "      <td>49.954071</td>\n",
       "      <td>10.084437</td>\n",
       "      <td>6.333877</td>\n",
       "      <td>11.997794</td>\n",
       "      <td>0.123000</td>\n",
       "    </tr>\n",
       "    <tr>\n",
       "      <th>std</th>\n",
       "      <td>72746.278255</td>\n",
       "      <td>2.878311e+06</td>\n",
       "      <td>17.063855</td>\n",
       "      <td>6.002590</td>\n",
       "      <td>3.647053</td>\n",
       "      <td>1.399037</td>\n",
       "      <td>0.328438</td>\n",
       "    </tr>\n",
       "    <tr>\n",
       "      <th>min</th>\n",
       "      <td>1.000000</td>\n",
       "      <td>1.031000e+04</td>\n",
       "      <td>21.000000</td>\n",
       "      <td>0.000000</td>\n",
       "      <td>0.000000</td>\n",
       "      <td>10.000000</td>\n",
       "      <td>0.000000</td>\n",
       "    </tr>\n",
       "    <tr>\n",
       "      <th>25%</th>\n",
       "      <td>63000.750000</td>\n",
       "      <td>2.503015e+06</td>\n",
       "      <td>35.000000</td>\n",
       "      <td>5.000000</td>\n",
       "      <td>3.000000</td>\n",
       "      <td>11.000000</td>\n",
       "      <td>0.000000</td>\n",
       "    </tr>\n",
       "    <tr>\n",
       "      <th>50%</th>\n",
       "      <td>126000.500000</td>\n",
       "      <td>5.000694e+06</td>\n",
       "      <td>50.000000</td>\n",
       "      <td>10.000000</td>\n",
       "      <td>6.000000</td>\n",
       "      <td>12.000000</td>\n",
       "      <td>0.000000</td>\n",
       "    </tr>\n",
       "    <tr>\n",
       "      <th>75%</th>\n",
       "      <td>189000.250000</td>\n",
       "      <td>7.477502e+06</td>\n",
       "      <td>65.000000</td>\n",
       "      <td>15.000000</td>\n",
       "      <td>9.000000</td>\n",
       "      <td>13.000000</td>\n",
       "      <td>0.000000</td>\n",
       "    </tr>\n",
       "    <tr>\n",
       "      <th>max</th>\n",
       "      <td>252000.000000</td>\n",
       "      <td>9.999938e+06</td>\n",
       "      <td>79.000000</td>\n",
       "      <td>20.000000</td>\n",
       "      <td>14.000000</td>\n",
       "      <td>14.000000</td>\n",
       "      <td>1.000000</td>\n",
       "    </tr>\n",
       "  </tbody>\n",
       "</table>\n",
       "</div>"
      ],
      "text/plain": [
       "                  Id        Income            Age     Experience  \\\n",
       "count  252000.000000  2.520000e+05  252000.000000  252000.000000   \n",
       "mean   126000.500000  4.997117e+06      49.954071      10.084437   \n",
       "std     72746.278255  2.878311e+06      17.063855       6.002590   \n",
       "min         1.000000  1.031000e+04      21.000000       0.000000   \n",
       "25%     63000.750000  2.503015e+06      35.000000       5.000000   \n",
       "50%    126000.500000  5.000694e+06      50.000000      10.000000   \n",
       "75%    189000.250000  7.477502e+06      65.000000      15.000000   \n",
       "max    252000.000000  9.999938e+06      79.000000      20.000000   \n",
       "\n",
       "       CURRENT_JOB_YRS  CURRENT_HOUSE_YRS      Risk_Flag  \n",
       "count    252000.000000      252000.000000  252000.000000  \n",
       "mean          6.333877          11.997794       0.123000  \n",
       "std           3.647053           1.399037       0.328438  \n",
       "min           0.000000          10.000000       0.000000  \n",
       "25%           3.000000          11.000000       0.000000  \n",
       "50%           6.000000          12.000000       0.000000  \n",
       "75%           9.000000          13.000000       0.000000  \n",
       "max          14.000000          14.000000       1.000000  "
      ]
     },
     "execution_count": 17,
     "metadata": {},
     "output_type": "execute_result"
    }
   ],
   "source": [
    "data.describe()"
   ]
  },
  {
   "cell_type": "markdown",
   "id": "853b799d",
   "metadata": {
    "papermill": {
     "duration": 0.079739,
     "end_time": "2021-12-21T14:32:53.060501",
     "exception": false,
     "start_time": "2021-12-21T14:32:52.980762",
     "status": "completed"
    },
    "tags": []
   },
   "source": [
    "Income and age of applicants from West Bangali does not differ much from other states."
   ]
  },
  {
   "cell_type": "markdown",
   "id": "0cd6bf70",
   "metadata": {
    "papermill": {
     "duration": 0.077982,
     "end_time": "2021-12-21T14:32:53.216595",
     "exception": false,
     "start_time": "2021-12-21T14:32:53.138613",
     "status": "completed"
    },
    "tags": []
   },
   "source": [
    "## Current Job"
   ]
  },
  {
   "cell_type": "code",
   "execution_count": 18,
   "id": "21cbecd9",
   "metadata": {
    "execution": {
     "iopub.execute_input": "2021-12-21T14:32:53.381494Z",
     "iopub.status.busy": "2021-12-21T14:32:53.380501Z",
     "iopub.status.idle": "2021-12-21T14:32:53.420205Z",
     "shell.execute_reply": "2021-12-21T14:32:53.419495Z",
     "shell.execute_reply.started": "2021-12-21T12:20:57.452498Z"
    },
    "papermill": {
     "duration": 0.124367,
     "end_time": "2021-12-21T14:32:53.420373",
     "exception": false,
     "start_time": "2021-12-21T14:32:53.296006",
     "status": "completed"
    },
    "tags": []
   },
   "outputs": [
    {
     "data": {
      "text/plain": [
       "Risk_Flag  CURRENT_JOB_YRS\n",
       "0          3                  26049\n",
       "           4                  25132\n",
       "           5                  22119\n",
       "           6                  20621\n",
       "           7                  17580\n",
       "           8                  16693\n",
       "           9                  15282\n",
       "           10                 13888\n",
       "           11                 11793\n",
       "           1                   9773\n",
       "           12                  9489\n",
       "           0                   9461\n",
       "           2                   9197\n",
       "           13                  7828\n",
       "           14                  6099\n",
       "1          3                   3411\n",
       "           4                   3207\n",
       "           5                   2972\n",
       "           6                   2870\n",
       "           7                   2345\n",
       "           8                   2181\n",
       "           2                   1890\n",
       "           10                  1880\n",
       "           9                   1850\n",
       "           1                   1802\n",
       "           11                  1802\n",
       "           0                   1582\n",
       "           13                  1271\n",
       "           12                  1116\n",
       "           14                   817\n",
       "Name: CURRENT_JOB_YRS, dtype: int64"
      ]
     },
     "execution_count": 18,
     "metadata": {},
     "output_type": "execute_result"
    }
   ],
   "source": [
    "data.groupby(\"Risk_Flag\")['CURRENT_JOB_YRS'].value_counts(sort=True)"
   ]
  },
  {
   "cell_type": "code",
   "execution_count": 19,
   "id": "359f204c",
   "metadata": {
    "execution": {
     "iopub.execute_input": "2021-12-21T14:32:53.585090Z",
     "iopub.status.busy": "2021-12-21T14:32:53.584049Z",
     "iopub.status.idle": "2021-12-21T14:32:53.923996Z",
     "shell.execute_reply": "2021-12-21T14:32:53.923429Z",
     "shell.execute_reply.started": "2021-12-21T12:20:57.492436Z"
    },
    "papermill": {
     "duration": 0.424137,
     "end_time": "2021-12-21T14:32:53.924165",
     "exception": false,
     "start_time": "2021-12-21T14:32:53.500028",
     "status": "completed"
    },
    "tags": []
   },
   "outputs": [
    {
     "data": {
      "image/png": "[encoded data removed]",
      "text/plain": [
       "<Figure size 432x288 with 1 Axes>"
      ]
     },
     "metadata": {},
     "output_type": "display_data"
    }
   ],
   "source": [
    "sns.countplot(x='CURRENT_JOB_YRS', hue='Risk_Flag', data=data)\n",
    "plt.show()"
   ]
  },
  {
   "cell_type": "markdown",
   "id": "bd90e6d7",
   "metadata": {
    "papermill": {
     "duration": 0.079392,
     "end_time": "2021-12-21T14:32:54.083487",
     "exception": false,
     "start_time": "2021-12-21T14:32:54.004095",
     "status": "completed"
    },
    "tags": []
   },
   "source": [
    "This plot doesn't tell much."
   ]
  },
  {
   "cell_type": "markdown",
   "id": "946e62c5",
   "metadata": {
    "papermill": {
     "duration": 0.078834,
     "end_time": "2021-12-21T14:32:54.248938",
     "exception": false,
     "start_time": "2021-12-21T14:32:54.170104",
     "status": "completed"
    },
    "tags": []
   },
   "source": [
    "## Profession"
   ]
  },
  {
   "cell_type": "code",
   "execution_count": 20,
   "id": "2858ac62",
   "metadata": {
    "execution": {
     "iopub.execute_input": "2021-12-21T14:32:54.474347Z",
     "iopub.status.busy": "2021-12-21T14:32:54.473326Z",
     "iopub.status.idle": "2021-12-21T14:32:54.482651Z",
     "shell.execute_reply": "2021-12-21T14:32:54.482116Z",
     "shell.execute_reply.started": "2021-12-21T12:20:57.993479Z"
    },
    "papermill": {
     "duration": 0.154705,
     "end_time": "2021-12-21T14:32:54.482822",
     "exception": false,
     "start_time": "2021-12-21T14:32:54.328117",
     "status": "completed"
    },
    "tags": []
   },
   "outputs": [
    {
     "data": {
      "text/plain": [
       "Physician                     5957\n",
       "Statistician                  5806\n",
       "Web_designer                  5397\n",
       "Psychologist                  5390\n",
       "Computer_hardware_engineer    5372\n",
       "Drafter                       5359\n",
       "Magistrate                    5357\n",
       "Fashion_Designer              5304\n",
       "Air_traffic_controller        5281\n",
       "Comedian                      5259\n",
       "Industrial_Engineer           5250\n",
       "Mechanical_engineer           5217\n",
       "Chemical_engineer             5205\n",
       "Technical_writer              5195\n",
       "Hotel_Manager                 5178\n",
       "Financial_Analyst             5167\n",
       "Graphic_Designer              5166\n",
       "Flight_attendant              5128\n",
       "Biomedical_Engineer           5127\n",
       "Secretary                     5061\n",
       "Software_Developer            5053\n",
       "Petroleum_Engineer            5041\n",
       "Police_officer                5035\n",
       "Computer_operator             4990\n",
       "Politician                    4944\n",
       "Microbiologist                4881\n",
       "Technician                    4864\n",
       "Artist                        4861\n",
       "Lawyer                        4818\n",
       "Consultant                    4808\n",
       "Dentist                       4782\n",
       "Scientist                     4781\n",
       "Surgeon                       4772\n",
       "Aviator                       4758\n",
       "Technology_specialist         4737\n",
       "Design_Engineer               4729\n",
       "Surveyor                      4714\n",
       "Geologist                     4672\n",
       "Analyst                       4668\n",
       "Army_officer                  4661\n",
       "Architect                     4657\n",
       "Chef                          4635\n",
       "Librarian                     4628\n",
       "Civil_engineer                4616\n",
       "Designer                      4598\n",
       "Economist                     4573\n",
       "Firefighter                   4507\n",
       "Chartered_Accountant          4493\n",
       "Civil_servant                 4413\n",
       "Official                      4087\n",
       "Engineer                      4048\n",
       "Name: Profession, dtype: int64"
      ]
     },
     "execution_count": 20,
     "metadata": {},
     "output_type": "execute_result"
    }
   ],
   "source": [
    "data['Profession'].value_counts()"
   ]
  },
  {
   "cell_type": "markdown",
   "id": "fb1572a6",
   "metadata": {
    "papermill": {
     "duration": 0.079336,
     "end_time": "2021-12-21T14:32:54.642094",
     "exception": false,
     "start_time": "2021-12-21T14:32:54.562758",
     "status": "completed"
    },
    "tags": []
   },
   "source": [
    "Most applicants have well paid jobs."
   ]
  },
  {
   "cell_type": "code",
   "execution_count": 21,
   "id": "dbb5a256",
   "metadata": {
    "execution": {
     "iopub.execute_input": "2021-12-21T14:32:54.808774Z",
     "iopub.status.busy": "2021-12-21T14:32:54.807842Z",
     "iopub.status.idle": "2021-12-21T14:32:54.844736Z",
     "shell.execute_reply": "2021-12-21T14:32:54.844174Z",
     "shell.execute_reply.started": "2021-12-21T12:20:58.055903Z"
    },
    "papermill": {
     "duration": 0.122413,
     "end_time": "2021-12-21T14:32:54.844912",
     "exception": false,
     "start_time": "2021-12-21T14:32:54.722499",
     "status": "completed"
    },
    "tags": []
   },
   "outputs": [
    {
     "data": {
      "text/plain": [
       "Profession\n",
       "Petroleum_Engineer            5.443310e+06\n",
       "Psychologist                  5.357795e+06\n",
       "Designer                      5.336802e+06\n",
       "Scientist                     5.282710e+06\n",
       "Surgeon                       5.235359e+06\n",
       "Comedian                      5.199539e+06\n",
       "Chemical_engineer             5.189805e+06\n",
       "Mechanical_engineer           5.175032e+06\n",
       "Artist                        5.164765e+06\n",
       "Financial_Analyst             5.145753e+06\n",
       "Consultant                    5.138436e+06\n",
       "Lawyer                        5.128131e+06\n",
       "Computer_operator             5.112550e+06\n",
       "Surveyor                      5.112352e+06\n",
       "Secretary                     5.102880e+06\n",
       "Army_officer                  5.094473e+06\n",
       "Aviator                       5.074104e+06\n",
       "Fashion_Designer              5.070883e+06\n",
       "Industrial_Engineer           5.060502e+06\n",
       "Firefighter                   5.046134e+06\n",
       "Microbiologist                5.035358e+06\n",
       "Statistician                  5.028648e+06\n",
       "Librarian                     5.007590e+06\n",
       "Architect                     5.004079e+06\n",
       "Chartered_Accountant          5.002232e+06\n",
       "Hotel_Manager                 4.996878e+06\n",
       "Computer_hardware_engineer    4.989531e+06\n",
       "Technology_specialist         4.985643e+06\n",
       "Biomedical_Engineer           4.982528e+06\n",
       "Technician                    4.971492e+06\n",
       "Air_traffic_controller        4.958422e+06\n",
       "Dentist                       4.948819e+06\n",
       "Civil_servant                 4.947843e+06\n",
       "Technical_writer              4.922266e+06\n",
       "Economist                     4.916002e+06\n",
       "Politician                    4.913568e+06\n",
       "Graphic_Designer              4.900447e+06\n",
       "Analyst                       4.894181e+06\n",
       "Web_designer                  4.893095e+06\n",
       "Software_Developer            4.891296e+06\n",
       "Geologist                     4.879362e+06\n",
       "Design_Engineer               4.840221e+06\n",
       "Chef                          4.839915e+06\n",
       "Engineer                      4.814755e+06\n",
       "Physician                     4.780384e+06\n",
       "Magistrate                    4.769920e+06\n",
       "Civil_engineer                4.755441e+06\n",
       "Official                      4.737617e+06\n",
       "Drafter                       4.654805e+06\n",
       "Flight_attendant              4.592177e+06\n",
       "Police_officer                4.502916e+06\n",
       "Name: Income, dtype: float64"
      ]
     },
     "execution_count": 21,
     "metadata": {},
     "output_type": "execute_result"
    }
   ],
   "source": [
    "data.groupby('Profession')['Income'].mean().sort_values(ascending=False)"
   ]
  },
  {
   "cell_type": "markdown",
   "id": "1855ff1f",
   "metadata": {
    "papermill": {
     "duration": 0.08608,
     "end_time": "2021-12-21T14:32:55.038573",
     "exception": false,
     "start_time": "2021-12-21T14:32:54.952493",
     "status": "completed"
    },
    "tags": []
   },
   "source": [
    "# Data Encoding:"
   ]
  },
  {
   "cell_type": "markdown",
   "id": "3043cb42",
   "metadata": {
    "papermill": {
     "duration": 0.089311,
     "end_time": "2021-12-21T14:32:55.219036",
     "exception": false,
     "start_time": "2021-12-21T14:32:55.129725",
     "status": "completed"
    },
    "tags": []
   },
   "source": [
    "The data does not need much cleaning, we only need to encode the categorical data so it could be used by our algorithms. For this step I will use LabelEncode of the sklearn pre processing library."
   ]
  },
  {
   "cell_type": "code",
   "execution_count": 22,
   "id": "3916f027",
   "metadata": {
    "execution": {
     "iopub.execute_input": "2021-12-21T14:32:55.383872Z",
     "iopub.status.busy": "2021-12-21T14:32:55.383223Z",
     "iopub.status.idle": "2021-12-21T14:32:56.338551Z",
     "shell.execute_reply": "2021-12-21T14:32:56.337894Z",
     "shell.execute_reply.started": "2021-12-21T12:20:58.097223Z"
    },
    "papermill": {
     "duration": 1.038908,
     "end_time": "2021-12-21T14:32:56.338700",
     "exception": false,
     "start_time": "2021-12-21T14:32:55.299792",
     "status": "completed"
    },
    "tags": []
   },
   "outputs": [],
   "source": [
    "from sklearn.preprocessing import LabelEncoder\n",
    "label_encoder = LabelEncoder()\n",
    "data[\"Married/Single\"] = label_encoder.fit_transform(data[\"Married/Single\"])\n",
    "data[\"House_Ownership\"] = label_encoder.fit_transform(data[\"House_Ownership\"])\n",
    "data[\"Car_Ownership\"] = label_encoder.fit_transform(data[\"Car_Ownership\"])\n",
    "data[\"Profession\"] = label_encoder.fit_transform(data[\"Profession\"])\n",
    "data[\"CITY\"] = label_encoder.fit_transform(data[\"CITY\"])\n",
    "data[\"STATE\"] = label_encoder.fit_transform(data[\"STATE\"])\n",
    "data[\"Status\"] = label_encoder.fit_transform(data[\"Status\"])"
   ]
  },
  {
   "cell_type": "code",
   "execution_count": 23,
   "id": "18b1aebd",
   "metadata": {
    "execution": {
     "iopub.execute_input": "2021-12-21T14:32:56.505574Z",
     "iopub.status.busy": "2021-12-21T14:32:56.504934Z",
     "iopub.status.idle": "2021-12-21T14:32:56.514189Z",
     "shell.execute_reply": "2021-12-21T14:32:56.513540Z",
     "shell.execute_reply.started": "2021-12-21T12:20:58.857331Z"
    },
    "papermill": {
     "duration": 0.095629,
     "end_time": "2021-12-21T14:32:56.514332",
     "exception": false,
     "start_time": "2021-12-21T14:32:56.418703",
     "status": "completed"
    },
    "tags": []
   },
   "outputs": [
    {
     "data": {
      "text/plain": [
       "25    28400\n",
       "14    25562\n",
       "0     25297\n",
       "28    23483\n",
       "2     19780\n",
       "22    16537\n",
       "13    14122\n",
       "11    11855\n",
       "6     11408\n",
       "20     9174\n",
       "10     8965\n",
       "7      7890\n",
       "23     7524\n",
       "1      7062\n",
       "12     5805\n",
       "5      5490\n",
       "19     4720\n",
       "17     4658\n",
       "4      3834\n",
       "27     1874\n",
       "9      1780\n",
       "18     1433\n",
       "16      849\n",
       "15      849\n",
       "8       833\n",
       "24      809\n",
       "26      743\n",
       "3       656\n",
       "21      608\n",
       "Name: STATE, dtype: int64"
      ]
     },
     "execution_count": 23,
     "metadata": {},
     "output_type": "execute_result"
    }
   ],
   "source": [
    "data['STATE'].value_counts()"
   ]
  },
  {
   "cell_type": "markdown",
   "id": "012c21f7",
   "metadata": {
    "papermill": {
     "duration": 0.081634,
     "end_time": "2021-12-21T14:32:56.676636",
     "exception": false,
     "start_time": "2021-12-21T14:32:56.595002",
     "status": "completed"
    },
    "tags": []
   },
   "source": [
    "Tada!"
   ]
  },
  {
   "cell_type": "markdown",
   "id": "e7349466",
   "metadata": {
    "papermill": {
     "duration": 0.079278,
     "end_time": "2021-12-21T14:32:56.836624",
     "exception": false,
     "start_time": "2021-12-21T14:32:56.757346",
     "status": "completed"
    },
    "tags": []
   },
   "source": [
    "# Testing Classifiers"
   ]
  },
  {
   "cell_type": "markdown",
   "id": "51b4876c",
   "metadata": {
    "papermill": {
     "duration": 0.081019,
     "end_time": "2021-12-21T14:32:56.999521",
     "exception": false,
     "start_time": "2021-12-21T14:32:56.918502",
     "status": "completed"
    },
    "tags": []
   },
   "source": [
    "Moving to the next step, we will start by importing the classifiers that we will test:\n",
    "* Logistic Regression\n",
    "* XGBoost\n",
    "* Random Forest \n",
    "* Gradient Boosting\n",
    "\n",
    "We would test other classifiers but it takes so much time to run a cross validation test on many classifiers."
   ]
  },
  {
   "cell_type": "code",
   "execution_count": 24,
   "id": "50ec5640",
   "metadata": {
    "execution": {
     "iopub.execute_input": "2021-12-21T14:32:57.164646Z",
     "iopub.status.busy": "2021-12-21T14:32:57.164054Z",
     "iopub.status.idle": "2021-12-21T14:32:57.468410Z",
     "shell.execute_reply": "2021-12-21T14:32:57.467842Z",
     "shell.execute_reply.started": "2021-12-21T12:20:58.871437Z"
    },
    "papermill": {
     "duration": 0.388347,
     "end_time": "2021-12-21T14:32:57.468577",
     "exception": false,
     "start_time": "2021-12-21T14:32:57.080230",
     "status": "completed"
    },
    "tags": []
   },
   "outputs": [],
   "source": [
    "from sklearn.linear_model import LogisticRegression\n",
    "from sklearn.ensemble import RandomForestClassifier\n",
    "import xgboost as xgb\n",
    "from sklearn.ensemble import GradientBoostingClassifier"
   ]
  },
  {
   "cell_type": "markdown",
   "id": "c77a1d0f",
   "metadata": {
    "papermill": {
     "duration": 0.080723,
     "end_time": "2021-12-21T14:32:57.630027",
     "exception": false,
     "start_time": "2021-12-21T14:32:57.549304",
     "status": "completed"
    },
    "tags": []
   },
   "source": [
    "And of course evaluation metrics are important, alongside the splitting function."
   ]
  },
  {
   "cell_type": "code",
   "execution_count": 25,
   "id": "c8760c72",
   "metadata": {
    "execution": {
     "iopub.execute_input": "2021-12-21T14:32:57.796472Z",
     "iopub.status.busy": "2021-12-21T14:32:57.795744Z",
     "iopub.status.idle": "2021-12-21T14:32:57.798287Z",
     "shell.execute_reply": "2021-12-21T14:32:57.798773Z",
     "shell.execute_reply.started": "2021-12-21T12:20:59.523759Z"
    },
    "papermill": {
     "duration": 0.088041,
     "end_time": "2021-12-21T14:32:57.798975",
     "exception": false,
     "start_time": "2021-12-21T14:32:57.710934",
     "status": "completed"
    },
    "tags": []
   },
   "outputs": [],
   "source": [
    "from sklearn import metrics\n",
    "from sklearn.model_selection import KFold, cross_val_score, train_test_split"
   ]
  },
  {
   "cell_type": "markdown",
   "id": "88088fcd",
   "metadata": {
    "papermill": {
     "duration": 0.081443,
     "end_time": "2021-12-21T14:32:57.962098",
     "exception": false,
     "start_time": "2021-12-21T14:32:57.880655",
     "status": "completed"
    },
    "tags": []
   },
   "source": [
    "First, we have to drop the target column from the data."
   ]
  },
  {
   "cell_type": "code",
   "execution_count": 26,
   "id": "9762dd56",
   "metadata": {
    "execution": {
     "iopub.execute_input": "2021-12-21T14:32:58.130046Z",
     "iopub.status.busy": "2021-12-21T14:32:58.129040Z",
     "iopub.status.idle": "2021-12-21T14:32:58.182694Z",
     "shell.execute_reply": "2021-12-21T14:32:58.182091Z",
     "shell.execute_reply.started": "2021-12-21T12:20:59.529911Z"
    },
    "papermill": {
     "duration": 0.138668,
     "end_time": "2021-12-21T14:32:58.182879",
     "exception": false,
     "start_time": "2021-12-21T14:32:58.044211",
     "status": "completed"
    },
    "tags": []
   },
   "outputs": [],
   "source": [
    "pred = data['Risk_Flag']\n",
    "data.drop(columns=['Risk_Flag'], inplace=True)"
   ]
  },
  {
   "cell_type": "markdown",
   "id": "78f27f78",
   "metadata": {
    "papermill": {
     "duration": 0.080117,
     "end_time": "2021-12-21T14:32:58.344060",
     "exception": false,
     "start_time": "2021-12-21T14:32:58.263943",
     "status": "completed"
    },
    "tags": []
   },
   "source": [
    "To avoid wasting too much time running one cell of code, first we will test logistic regression and gradient boosting, and then move to XGBoost and Random Forest."
   ]
  },
  {
   "cell_type": "code",
   "execution_count": 27,
   "id": "c653cd78",
   "metadata": {
    "execution": {
     "iopub.execute_input": "2021-12-21T14:32:58.510007Z",
     "iopub.status.busy": "2021-12-21T14:32:58.509360Z",
     "iopub.status.idle": "2021-12-21T14:32:58.514394Z",
     "shell.execute_reply": "2021-12-21T14:32:58.515032Z",
     "shell.execute_reply.started": "2021-12-21T12:20:59.580527Z"
    },
    "papermill": {
     "duration": 0.09001,
     "end_time": "2021-12-21T14:32:58.515217",
     "exception": false,
     "start_time": "2021-12-21T14:32:58.425207",
     "status": "completed"
    },
    "tags": []
   },
   "outputs": [
    {
     "data": {
      "text/plain": [
       "\"\\nKFold_Score = pd.DataFrame()\\nclassifiers = ['LogisticRegression', 'GradientBoostingClassifier']\\nmodels = [\\n          LogisticRegression(max_iter = 1000),\\n          GradientBoostingClassifier(random_state=0)\\n         ]\\n\""
      ]
     },
     "execution_count": 27,
     "metadata": {},
     "output_type": "execute_result"
    }
   ],
   "source": [
    "'''\n",
    "KFold_Score = pd.DataFrame()\n",
    "classifiers = ['LogisticRegression', 'GradientBoostingClassifier']\n",
    "models = [\n",
    "          LogisticRegression(max_iter = 1000),\n",
    "          GradientBoostingClassifier(random_state=0)\n",
    "         ]\n",
    "'''"
   ]
  },
  {
   "cell_type": "code",
   "execution_count": 28,
   "id": "ccbd5b95",
   "metadata": {
    "execution": {
     "iopub.execute_input": "2021-12-21T14:32:58.680633Z",
     "iopub.status.busy": "2021-12-21T14:32:58.680034Z",
     "iopub.status.idle": "2021-12-21T14:32:58.686292Z",
     "shell.execute_reply": "2021-12-21T14:32:58.685658Z",
     "shell.execute_reply.started": "2021-12-21T12:20:59.58836Z"
    },
    "papermill": {
     "duration": 0.090286,
     "end_time": "2021-12-21T14:32:58.686452",
     "exception": false,
     "start_time": "2021-12-21T14:32:58.596166",
     "status": "completed"
    },
    "tags": []
   },
   "outputs": [
    {
     "data": {
      "text/plain": [
       "\"\\nj = 0\\nfor i in models:\\n    model = i\\n    cv = KFold(n_splits=5, random_state=0, shuffle=True)\\n    KFold_Score[classifiers[j]] = (cross_val_score(model, data, np.ravel(pred), scoring = 'accuracy', cv=cv))\\n    j = j+1\\n\""
      ]
     },
     "execution_count": 28,
     "metadata": {},
     "output_type": "execute_result"
    }
   ],
   "source": [
    "'''\n",
    "j = 0\n",
    "for i in models:\n",
    "    model = i\n",
    "    cv = KFold(n_splits=5, random_state=0, shuffle=True)\n",
    "    KFold_Score[classifiers[j]] = (cross_val_score(model, data, np.ravel(pred), scoring = 'accuracy', cv=cv))\n",
    "    j = j+1\n",
    "'''"
   ]
  },
  {
   "cell_type": "markdown",
   "id": "f331d1d9",
   "metadata": {
    "papermill": {
     "duration": 0.083278,
     "end_time": "2021-12-21T14:32:58.852223",
     "exception": false,
     "start_time": "2021-12-21T14:32:58.768945",
     "status": "completed"
    },
    "tags": []
   },
   "source": [
    "Well, we can clearly see we have got nearly the same mean cross validation score. Moving on to the next test. `I have commented the code because of the limited computing power.`"
   ]
  },
  {
   "cell_type": "code",
   "execution_count": 29,
   "id": "f2df84a7",
   "metadata": {
    "execution": {
     "iopub.execute_input": "2021-12-21T14:32:59.094220Z",
     "iopub.status.busy": "2021-12-21T14:32:59.093503Z",
     "iopub.status.idle": "2021-12-21T14:32:59.096709Z",
     "shell.execute_reply": "2021-12-21T14:32:59.097247Z",
     "shell.execute_reply.started": "2021-12-21T12:20:59.601456Z"
    },
    "papermill": {
     "duration": 0.091978,
     "end_time": "2021-12-21T14:32:59.097437",
     "exception": false,
     "start_time": "2021-12-21T14:32:59.005459",
     "status": "completed"
    },
    "tags": []
   },
   "outputs": [
    {
     "data": {
      "text/plain": [
       "\"\\nmean = pd.DataFrame(KFold_Score.mean(), index= classifiers)\\nKFold_Score = pd.concat([KFold_Score,mean.T])\\nKFold_Score.index=['Fold 1','Fold 2','Fold 3','Fold 4','Fold 5','Mean']\\nKFold_Score.T.sort_values(by=['Mean'], ascending = False)\\n\""
      ]
     },
     "execution_count": 29,
     "metadata": {},
     "output_type": "execute_result"
    }
   ],
   "source": [
    "'''\n",
    "mean = pd.DataFrame(KFold_Score.mean(), index= classifiers)\n",
    "KFold_Score = pd.concat([KFold_Score,mean.T])\n",
    "KFold_Score.index=['Fold 1','Fold 2','Fold 3','Fold 4','Fold 5','Mean']\n",
    "KFold_Score.T.sort_values(by=['Mean'], ascending = False)\n",
    "'''"
   ]
  },
  {
   "cell_type": "code",
   "execution_count": 30,
   "id": "ae510420",
   "metadata": {
    "execution": {
     "iopub.execute_input": "2021-12-21T14:32:59.268629Z",
     "iopub.status.busy": "2021-12-21T14:32:59.267945Z",
     "iopub.status.idle": "2021-12-21T14:32:59.272915Z",
     "shell.execute_reply": "2021-12-21T14:32:59.273419Z",
     "shell.execute_reply.started": "2021-12-21T12:20:59.614453Z"
    },
    "papermill": {
     "duration": 0.094587,
     "end_time": "2021-12-21T14:32:59.273604",
     "exception": false,
     "start_time": "2021-12-21T14:32:59.179017",
     "status": "completed"
    },
    "tags": []
   },
   "outputs": [
    {
     "data": {
      "text/plain": [
       "\"\\nKFold_Score2 = pd.DataFrame()\\nclassifiers = ['RandomForestClassifier', 'XGBoostClassifier']\\nmodels = [\\n          RandomForestClassifier(n_estimators=200, random_state=0),\\n          xgb.XGBClassifier(n_estimators=100),\\n         ]\\nj = 0\\nfor i in models:\\n    model = i\\n    cv = KFold(n_splits=5, random_state=0, shuffle=True)\\n    KFold_Score2[classifiers[j]] = (cross_val_score(model, data, np.ravel(pred), scoring = 'accuracy', cv=cv))\\n    j = j+1\\n\""
      ]
     },
     "execution_count": 30,
     "metadata": {},
     "output_type": "execute_result"
    }
   ],
   "source": [
    "'''\n",
    "KFold_Score2 = pd.DataFrame()\n",
    "classifiers = ['RandomForestClassifier', 'XGBoostClassifier']\n",
    "models = [\n",
    "          RandomForestClassifier(n_estimators=200, random_state=0),\n",
    "          xgb.XGBClassifier(n_estimators=100),\n",
    "         ]\n",
    "j = 0\n",
    "for i in models:\n",
    "    model = i\n",
    "    cv = KFold(n_splits=5, random_state=0, shuffle=True)\n",
    "    KFold_Score2[classifiers[j]] = (cross_val_score(model, data, np.ravel(pred), scoring = 'accuracy', cv=cv))\n",
    "    j = j+1\n",
    "'''"
   ]
  },
  {
   "cell_type": "code",
   "execution_count": 31,
   "id": "e81fba62",
   "metadata": {
    "execution": {
     "iopub.execute_input": "2021-12-21T14:32:59.442608Z",
     "iopub.status.busy": "2021-12-21T14:32:59.442007Z",
     "iopub.status.idle": "2021-12-21T14:32:59.446998Z",
     "shell.execute_reply": "2021-12-21T14:32:59.447534Z",
     "shell.execute_reply.started": "2021-12-21T12:20:59.626973Z"
    },
    "papermill": {
     "duration": 0.090203,
     "end_time": "2021-12-21T14:32:59.447714",
     "exception": false,
     "start_time": "2021-12-21T14:32:59.357511",
     "status": "completed"
    },
    "tags": []
   },
   "outputs": [
    {
     "data": {
      "text/plain": [
       "\"\\nmean = pd.DataFrame(KFold_Score2.mean(), index= classifiers)\\nKFold_Score2 = pd.concat([KFold_Score2,mean.T])\\nKFold_Score2.index=['Fold 1','Fold 2','Fold 3','Fold 4','Fold 5','Mean']\\nKFold_Score2.T.sort_values(by=['Mean'], ascending = False)\\n\""
      ]
     },
     "execution_count": 31,
     "metadata": {},
     "output_type": "execute_result"
    }
   ],
   "source": [
    "'''\n",
    "mean = pd.DataFrame(KFold_Score2.mean(), index= classifiers)\n",
    "KFold_Score2 = pd.concat([KFold_Score2,mean.T])\n",
    "KFold_Score2.index=['Fold 1','Fold 2','Fold 3','Fold 4','Fold 5','Mean']\n",
    "KFold_Score2.T.sort_values(by=['Mean'], ascending = False)\n",
    "'''"
   ]
  },
  {
   "cell_type": "markdown",
   "id": "fdadff2a",
   "metadata": {
    "papermill": {
     "duration": 0.081976,
     "end_time": "2021-12-21T14:32:59.613880",
     "exception": false,
     "start_time": "2021-12-21T14:32:59.531904",
     "status": "completed"
    },
    "tags": []
   },
   "source": [
    "After testig four classifiers, we can see that XGBoostClassifier returns the best mean cross validation score."
   ]
  },
  {
   "cell_type": "markdown",
   "id": "306539e0",
   "metadata": {
    "papermill": {
     "duration": 0.081867,
     "end_time": "2021-12-21T14:32:59.778091",
     "exception": false,
     "start_time": "2021-12-21T14:32:59.696224",
     "status": "completed"
    },
    "tags": []
   },
   "source": [
    "# Hyperparameter tunning:"
   ]
  },
  {
   "cell_type": "code",
   "execution_count": 32,
   "id": "ca2f0d78",
   "metadata": {
    "execution": {
     "iopub.execute_input": "2021-12-21T14:32:59.945666Z",
     "iopub.status.busy": "2021-12-21T14:32:59.945055Z",
     "iopub.status.idle": "2021-12-21T14:33:00.002432Z",
     "shell.execute_reply": "2021-12-21T14:33:00.003001Z",
     "shell.execute_reply.started": "2021-12-21T12:20:59.64356Z"
    },
    "papermill": {
     "duration": 0.142713,
     "end_time": "2021-12-21T14:33:00.003214",
     "exception": false,
     "start_time": "2021-12-21T14:32:59.860501",
     "status": "completed"
    },
    "tags": []
   },
   "outputs": [],
   "source": [
    "X_train, X_test, y_train, y_test = train_test_split(data, pred, test_size=0.2, random_state=42)"
   ]
  },
  {
   "cell_type": "markdown",
   "id": "a79b4464",
   "metadata": {
    "papermill": {
     "duration": 0.081759,
     "end_time": "2021-12-21T14:33:00.167249",
     "exception": false,
     "start_time": "2021-12-21T14:33:00.085490",
     "status": "completed"
    },
    "tags": []
   },
   "source": [
    "Instead of numpy arrays or pandas dataFrame, XGBoost uses DMatrices."
   ]
  },
  {
   "cell_type": "code",
   "execution_count": 33,
   "id": "96d8b0d5",
   "metadata": {
    "execution": {
     "iopub.execute_input": "2021-12-21T14:33:00.335156Z",
     "iopub.status.busy": "2021-12-21T14:33:00.334470Z",
     "iopub.status.idle": "2021-12-21T14:33:00.389292Z",
     "shell.execute_reply": "2021-12-21T14:33:00.389938Z",
     "shell.execute_reply.started": "2021-12-21T12:20:59.703982Z"
    },
    "papermill": {
     "duration": 0.140567,
     "end_time": "2021-12-21T14:33:00.390178",
     "exception": false,
     "start_time": "2021-12-21T14:33:00.249611",
     "status": "completed"
    },
    "tags": []
   },
   "outputs": [],
   "source": [
    "dtrain = xgb.DMatrix(X_train, label=y_train)\n",
    "dtest = xgb.DMatrix(X_test, label=y_test)"
   ]
  },
  {
   "cell_type": "markdown",
   "id": "efb068b4",
   "metadata": {
    "papermill": {
     "duration": 0.082341,
     "end_time": "2021-12-21T14:33:00.557030",
     "exception": false,
     "start_time": "2021-12-21T14:33:00.474689",
     "status": "completed"
    },
    "tags": []
   },
   "source": [
    "We will start by defining the initial parameters of the model:"
   ]
  },
  {
   "cell_type": "code",
   "execution_count": 34,
   "id": "d4575032",
   "metadata": {
    "execution": {
     "iopub.execute_input": "2021-12-21T14:33:00.729563Z",
     "iopub.status.busy": "2021-12-21T14:33:00.728859Z",
     "iopub.status.idle": "2021-12-21T14:33:00.730226Z",
     "shell.execute_reply": "2021-12-21T14:33:00.730830Z",
     "shell.execute_reply.started": "2021-12-21T12:20:59.761018Z"
    },
    "papermill": {
     "duration": 0.090495,
     "end_time": "2021-12-21T14:33:00.731016",
     "exception": false,
     "start_time": "2021-12-21T14:33:00.640521",
     "status": "completed"
    },
    "tags": []
   },
   "outputs": [],
   "source": [
    "params = {\n",
    "    'max_depth':6,\n",
    "    'min_child_weight': 1,\n",
    "    'eta':.3,\n",
    "    'subsample': 1,\n",
    "    'colsample_bytree': 1,\n",
    "    'objective':'reg:linear',\n",
    "}"
   ]
  },
  {
   "cell_type": "markdown",
   "id": "bed2940e",
   "metadata": {
    "papermill": {
     "duration": 0.082321,
     "end_time": "2021-12-21T14:33:00.895933",
     "exception": false,
     "start_time": "2021-12-21T14:33:00.813612",
     "status": "completed"
    },
    "tags": []
   },
   "source": [
    "Since this is a classification problem, we will set the evaluation metric to log loss"
   ]
  },
  {
   "cell_type": "code",
   "execution_count": 35,
   "id": "512136b5",
   "metadata": {
    "execution": {
     "iopub.execute_input": "2021-12-21T14:33:01.064920Z",
     "iopub.status.busy": "2021-12-21T14:33:01.064263Z",
     "iopub.status.idle": "2021-12-21T14:33:01.067987Z",
     "shell.execute_reply": "2021-12-21T14:33:01.068531Z",
     "shell.execute_reply.started": "2021-12-21T12:20:59.767861Z"
    },
    "papermill": {
     "duration": 0.090481,
     "end_time": "2021-12-21T14:33:01.068723",
     "exception": false,
     "start_time": "2021-12-21T14:33:00.978242",
     "status": "completed"
    },
    "tags": []
   },
   "outputs": [],
   "source": [
    "params['eval_metric'] = 'logloss'"
   ]
  },
  {
   "cell_type": "markdown",
   "id": "f0c42d39",
   "metadata": {
    "papermill": {
     "duration": 0.082116,
     "end_time": "2021-12-21T14:33:01.233371",
     "exception": false,
     "start_time": "2021-12-21T14:33:01.151255",
     "status": "completed"
    },
    "tags": []
   },
   "source": [
    "Train the model with the parameters selected, and specify early stopping at ten rounds"
   ]
  },
  {
   "cell_type": "code",
   "execution_count": 36,
   "id": "047355b3",
   "metadata": {
    "execution": {
     "iopub.execute_input": "2021-12-21T14:33:01.400660Z",
     "iopub.status.busy": "2021-12-21T14:33:01.400053Z",
     "iopub.status.idle": "2021-12-21T14:33:18.901823Z",
     "shell.execute_reply": "2021-12-21T14:33:18.900966Z",
     "shell.execute_reply.started": "2021-12-21T12:20:59.786275Z"
    },
    "papermill": {
     "duration": 17.586571,
     "end_time": "2021-12-21T14:33:18.902001",
     "exception": false,
     "start_time": "2021-12-21T14:33:01.315430",
     "status": "completed"
    },
    "tags": []
   },
   "outputs": [
    {
     "name": "stdout",
     "output_type": "stream",
     "text": [
      "[14:33:01] WARNING: ../src/objective/regression_obj.cu:171: reg:linear is now deprecated in favor of reg:squarederror.\n",
      "[0]\tTest-logloss:0.54142\n",
      "[1]\tTest-logloss:0.45873\n",
      "[2]\tTest-logloss:0.41086\n",
      "[3]\tTest-logloss:0.38299\n",
      "[4]\tTest-logloss:0.36444\n",
      "[5]\tTest-logloss:0.35305\n",
      "[6]\tTest-logloss:0.34460\n",
      "[7]\tTest-logloss:0.33937\n",
      "[8]\tTest-logloss:0.33460\n",
      "[9]\tTest-logloss:0.33234\n",
      "[10]\tTest-logloss:0.32901\n",
      "[11]\tTest-logloss:0.32643\n",
      "[12]\tTest-logloss:0.32244\n",
      "[13]\tTest-logloss:0.32125\n",
      "[14]\tTest-logloss:0.32057\n",
      "[15]\tTest-logloss:0.32005\n",
      "[16]\tTest-logloss:0.31842\n",
      "[17]\tTest-logloss:0.31529\n",
      "[18]\tTest-logloss:0.31291\n",
      "[19]\tTest-logloss:0.31105\n",
      "[20]\tTest-logloss:0.31036\n",
      "[21]\tTest-logloss:0.30843\n",
      "[22]\tTest-logloss:0.30717\n",
      "[23]\tTest-logloss:0.30581\n",
      "[24]\tTest-logloss:0.30415\n",
      "[25]\tTest-logloss:0.30305\n",
      "[26]\tTest-logloss:0.30214\n",
      "[27]\tTest-logloss:0.30023\n",
      "[28]\tTest-logloss:0.29870\n",
      "[29]\tTest-logloss:0.29800\n",
      "[30]\tTest-logloss:0.29599\n",
      "[31]\tTest-logloss:0.29418\n",
      "[32]\tTest-logloss:0.29239\n",
      "[33]\tTest-logloss:0.29068\n",
      "[34]\tTest-logloss:0.29027\n",
      "[35]\tTest-logloss:0.28877\n",
      "[36]\tTest-logloss:0.28873\n",
      "[37]\tTest-logloss:0.28842\n",
      "[38]\tTest-logloss:0.28801\n",
      "[39]\tTest-logloss:0.28778\n",
      "[40]\tTest-logloss:0.28777\n",
      "[41]\tTest-logloss:0.28759\n",
      "[42]\tTest-logloss:0.28760\n",
      "[43]\tTest-logloss:0.28568\n",
      "[44]\tTest-logloss:0.28514\n",
      "[45]\tTest-logloss:0.28394\n",
      "[46]\tTest-logloss:0.28397\n",
      "[47]\tTest-logloss:0.28249\n",
      "[48]\tTest-logloss:0.28141\n",
      "[49]\tTest-logloss:0.28093\n",
      "[50]\tTest-logloss:0.27915\n",
      "[51]\tTest-logloss:0.27842\n",
      "[52]\tTest-logloss:0.27802\n",
      "[53]\tTest-logloss:0.27814\n",
      "[54]\tTest-logloss:0.27726\n",
      "[55]\tTest-logloss:0.27525\n",
      "[56]\tTest-logloss:0.27371\n",
      "[57]\tTest-logloss:0.27258\n",
      "[58]\tTest-logloss:0.27105\n",
      "[59]\tTest-logloss:0.26993\n",
      "[60]\tTest-logloss:0.26833\n",
      "[61]\tTest-logloss:0.26796\n",
      "[62]\tTest-logloss:0.26734\n",
      "[63]\tTest-logloss:0.26699\n",
      "[64]\tTest-logloss:0.26610\n",
      "[65]\tTest-logloss:0.26518\n",
      "[66]\tTest-logloss:0.26469\n",
      "[67]\tTest-logloss:0.26332\n",
      "[68]\tTest-logloss:0.26280\n",
      "[69]\tTest-logloss:0.26355\n",
      "[70]\tTest-logloss:0.26327\n",
      "[71]\tTest-logloss:0.26288\n",
      "[72]\tTest-logloss:0.26271\n",
      "[73]\tTest-logloss:0.26331\n",
      "[74]\tTest-logloss:0.26248\n",
      "[75]\tTest-logloss:0.26213\n",
      "[76]\tTest-logloss:0.26175\n",
      "[77]\tTest-logloss:0.26209\n",
      "[78]\tTest-logloss:0.26184\n",
      "[79]\tTest-logloss:0.26167\n",
      "[80]\tTest-logloss:0.26006\n",
      "[81]\tTest-logloss:0.25934\n",
      "[82]\tTest-logloss:0.25944\n",
      "[83]\tTest-logloss:0.25921\n",
      "[84]\tTest-logloss:0.25909\n",
      "[85]\tTest-logloss:0.25863\n",
      "[86]\tTest-logloss:0.25846\n",
      "[87]\tTest-logloss:0.25791\n",
      "[88]\tTest-logloss:0.25677\n",
      "[89]\tTest-logloss:0.25627\n",
      "[90]\tTest-logloss:0.25616\n",
      "[91]\tTest-logloss:0.25568\n",
      "[92]\tTest-logloss:0.25557\n",
      "[93]\tTest-logloss:0.25481\n",
      "[94]\tTest-logloss:0.25538\n",
      "[95]\tTest-logloss:0.25459\n",
      "[96]\tTest-logloss:0.25348\n",
      "[97]\tTest-logloss:0.25311\n",
      "[98]\tTest-logloss:0.25246\n",
      "[99]\tTest-logloss:0.25222\n",
      "[100]\tTest-logloss:0.25175\n",
      "[101]\tTest-logloss:0.25123\n",
      "[102]\tTest-logloss:0.25010\n",
      "[103]\tTest-logloss:0.24971\n",
      "[104]\tTest-logloss:0.24962\n",
      "[105]\tTest-logloss:0.24889\n",
      "[106]\tTest-logloss:0.24834\n",
      "[107]\tTest-logloss:0.24860\n",
      "[108]\tTest-logloss:0.24748\n",
      "[109]\tTest-logloss:0.24718\n",
      "[110]\tTest-logloss:0.24727\n",
      "[111]\tTest-logloss:0.24767\n",
      "[112]\tTest-logloss:0.24759\n",
      "[113]\tTest-logloss:0.24839\n",
      "[114]\tTest-logloss:0.24780\n",
      "[115]\tTest-logloss:0.24841\n",
      "[116]\tTest-logloss:0.24899\n",
      "[117]\tTest-logloss:0.24941\n",
      "[118]\tTest-logloss:0.24937\n"
     ]
    }
   ],
   "source": [
    "model = xgb.train(\n",
    "    params,\n",
    "    dtrain,\n",
    "    num_boost_round=999,\n",
    "    evals=[(dtest, \"Test\")],\n",
    "    early_stopping_rounds=10\n",
    ")"
   ]
  },
  {
   "cell_type": "markdown",
   "id": "61c33ff7",
   "metadata": {
    "papermill": {
     "duration": 0.117118,
     "end_time": "2021-12-21T14:33:19.139146",
     "exception": false,
     "start_time": "2021-12-21T14:33:19.022028",
     "status": "completed"
    },
    "tags": []
   },
   "source": [
    "Let us check the initial log loss"
   ]
  },
  {
   "cell_type": "code",
   "execution_count": 37,
   "id": "d102553b",
   "metadata": {
    "execution": {
     "iopub.execute_input": "2021-12-21T14:33:19.381241Z",
     "iopub.status.busy": "2021-12-21T14:33:19.380578Z",
     "iopub.status.idle": "2021-12-21T14:33:19.384469Z",
     "shell.execute_reply": "2021-12-21T14:33:19.383606Z",
     "shell.execute_reply.started": "2021-12-21T12:21:16.163287Z"
    },
    "papermill": {
     "duration": 0.126114,
     "end_time": "2021-12-21T14:33:19.384660",
     "exception": false,
     "start_time": "2021-12-21T14:33:19.258546",
     "status": "completed"
    },
    "tags": []
   },
   "outputs": [
    {
     "name": "stdout",
     "output_type": "stream",
     "text": [
      "Best Log Loss: 0.25 with 110 rounds\n"
     ]
    }
   ],
   "source": [
    "print(\"Best Log Loss: {:.2f} with {} rounds\".format(\n",
    "                 model.best_score,\n",
    "                 model.best_iteration+1))"
   ]
  },
  {
   "cell_type": "code",
   "execution_count": 38,
   "id": "dbf32125",
   "metadata": {
    "execution": {
     "iopub.execute_input": "2021-12-21T14:33:19.634309Z",
     "iopub.status.busy": "2021-12-21T14:33:19.628431Z",
     "iopub.status.idle": "2021-12-21T14:34:55.178465Z",
     "shell.execute_reply": "2021-12-21T14:34:55.179025Z",
     "shell.execute_reply.started": "2021-12-21T12:21:16.172439Z"
    },
    "papermill": {
     "duration": 95.673678,
     "end_time": "2021-12-21T14:34:55.179252",
     "exception": false,
     "start_time": "2021-12-21T14:33:19.505574",
     "status": "completed"
    },
    "tags": []
   },
   "outputs": [
    {
     "name": "stdout",
     "output_type": "stream",
     "text": [
      "[14:33:19] WARNING: ../src/objective/regression_obj.cu:171: reg:linear is now deprecated in favor of reg:squarederror.\n",
      "[14:33:20] WARNING: ../src/objective/regression_obj.cu:171: reg:linear is now deprecated in favor of reg:squarederror.\n",
      "[14:33:20] WARNING: ../src/objective/regression_obj.cu:171: reg:linear is now deprecated in favor of reg:squarederror.\n",
      "[14:33:20] WARNING: ../src/objective/regression_obj.cu:171: reg:linear is now deprecated in favor of reg:squarederror.\n",
      "[14:33:20] WARNING: ../src/objective/regression_obj.cu:171: reg:linear is now deprecated in favor of reg:squarederror.\n"
     ]
    },
    {
     "data": {
      "text/html": [
       "<div>\n",
       "<style scoped>\n",
       "    .dataframe tbody tr th:only-of-type {\n",
       "        vertical-align: middle;\n",
       "    }\n",
       "\n",
       "    .dataframe tbody tr th {\n",
       "        vertical-align: top;\n",
       "    }\n",
       "\n",
       "    .dataframe thead th {\n",
       "        text-align: right;\n",
       "    }\n",
       "</style>\n",
       "<table border=\"1\" class=\"dataframe\">\n",
       "  <thead>\n",
       "    <tr style=\"text-align: right;\">\n",
       "      <th></th>\n",
       "      <th>train-logloss-mean</th>\n",
       "      <th>train-logloss-std</th>\n",
       "      <th>test-logloss-mean</th>\n",
       "      <th>test-logloss-std</th>\n",
       "    </tr>\n",
       "  </thead>\n",
       "  <tbody>\n",
       "    <tr>\n",
       "      <th>0</th>\n",
       "      <td>0.540610</td>\n",
       "      <td>0.000106</td>\n",
       "      <td>0.540881</td>\n",
       "      <td>0.000185</td>\n",
       "    </tr>\n",
       "    <tr>\n",
       "      <th>1</th>\n",
       "      <td>0.457465</td>\n",
       "      <td>0.000200</td>\n",
       "      <td>0.458058</td>\n",
       "      <td>0.000436</td>\n",
       "    </tr>\n",
       "    <tr>\n",
       "      <th>2</th>\n",
       "      <td>0.408339</td>\n",
       "      <td>0.000355</td>\n",
       "      <td>0.409367</td>\n",
       "      <td>0.000466</td>\n",
       "    </tr>\n",
       "    <tr>\n",
       "      <th>3</th>\n",
       "      <td>0.379780</td>\n",
       "      <td>0.000540</td>\n",
       "      <td>0.381161</td>\n",
       "      <td>0.000640</td>\n",
       "    </tr>\n",
       "    <tr>\n",
       "      <th>4</th>\n",
       "      <td>0.361996</td>\n",
       "      <td>0.000667</td>\n",
       "      <td>0.363675</td>\n",
       "      <td>0.000493</td>\n",
       "    </tr>\n",
       "    <tr>\n",
       "      <th>...</th>\n",
       "      <td>...</td>\n",
       "      <td>...</td>\n",
       "      <td>...</td>\n",
       "      <td>...</td>\n",
       "    </tr>\n",
       "    <tr>\n",
       "      <th>147</th>\n",
       "      <td>0.202234</td>\n",
       "      <td>0.001359</td>\n",
       "      <td>0.242111</td>\n",
       "      <td>0.001847</td>\n",
       "    </tr>\n",
       "    <tr>\n",
       "      <th>148</th>\n",
       "      <td>0.201976</td>\n",
       "      <td>0.001286</td>\n",
       "      <td>0.242592</td>\n",
       "      <td>0.002140</td>\n",
       "    </tr>\n",
       "    <tr>\n",
       "      <th>149</th>\n",
       "      <td>0.201638</td>\n",
       "      <td>0.001396</td>\n",
       "      <td>0.242426</td>\n",
       "      <td>0.002131</td>\n",
       "    </tr>\n",
       "    <tr>\n",
       "      <th>150</th>\n",
       "      <td>0.201116</td>\n",
       "      <td>0.001516</td>\n",
       "      <td>0.241786</td>\n",
       "      <td>0.002064</td>\n",
       "    </tr>\n",
       "    <tr>\n",
       "      <th>151</th>\n",
       "      <td>0.200661</td>\n",
       "      <td>0.001556</td>\n",
       "      <td>0.241133</td>\n",
       "      <td>0.002172</td>\n",
       "    </tr>\n",
       "  </tbody>\n",
       "</table>\n",
       "<p>152 rows × 4 columns</p>\n",
       "</div>"
      ],
      "text/plain": [
       "     train-logloss-mean  train-logloss-std  test-logloss-mean  \\\n",
       "0              0.540610           0.000106           0.540881   \n",
       "1              0.457465           0.000200           0.458058   \n",
       "2              0.408339           0.000355           0.409367   \n",
       "3              0.379780           0.000540           0.381161   \n",
       "4              0.361996           0.000667           0.363675   \n",
       "..                  ...                ...                ...   \n",
       "147            0.202234           0.001359           0.242111   \n",
       "148            0.201976           0.001286           0.242592   \n",
       "149            0.201638           0.001396           0.242426   \n",
       "150            0.201116           0.001516           0.241786   \n",
       "151            0.200661           0.001556           0.241133   \n",
       "\n",
       "     test-logloss-std  \n",
       "0            0.000185  \n",
       "1            0.000436  \n",
       "2            0.000466  \n",
       "3            0.000640  \n",
       "4            0.000493  \n",
       "..                ...  \n",
       "147          0.001847  \n",
       "148          0.002140  \n",
       "149          0.002131  \n",
       "150          0.002064  \n",
       "151          0.002172  \n",
       "\n",
       "[152 rows x 4 columns]"
      ]
     },
     "execution_count": 38,
     "metadata": {},
     "output_type": "execute_result"
    }
   ],
   "source": [
    "cv_results = xgb.cv(\n",
    "    params,\n",
    "    dtrain,\n",
    "    num_boost_round=999,\n",
    "    seed=42,\n",
    "    nfold=5,\n",
    "    metrics={'logloss'},\n",
    "    early_stopping_rounds=10\n",
    ")\n",
    "cv_results"
   ]
  },
  {
   "cell_type": "code",
   "execution_count": 39,
   "id": "054891f7",
   "metadata": {
    "execution": {
     "iopub.execute_input": "2021-12-21T14:34:55.425952Z",
     "iopub.status.busy": "2021-12-21T14:34:55.425238Z",
     "iopub.status.idle": "2021-12-21T14:34:55.428440Z",
     "shell.execute_reply": "2021-12-21T14:34:55.429026Z",
     "shell.execute_reply.started": "2021-12-21T12:22:43.15346Z"
    },
    "papermill": {
     "duration": 0.130076,
     "end_time": "2021-12-21T14:34:55.429226",
     "exception": false,
     "start_time": "2021-12-21T14:34:55.299150",
     "status": "completed"
    },
    "tags": []
   },
   "outputs": [
    {
     "data": {
      "text/plain": [
       "0.241133"
      ]
     },
     "execution_count": 39,
     "metadata": {},
     "output_type": "execute_result"
    }
   ],
   "source": [
    "cv_results['test-logloss-mean'].min()"
   ]
  },
  {
   "cell_type": "markdown",
   "id": "27ed3f85",
   "metadata": {
    "papermill": {
     "duration": 0.120237,
     "end_time": "2021-12-21T14:34:55.671715",
     "exception": false,
     "start_time": "2021-12-21T14:34:55.551478",
     "status": "completed"
    },
    "tags": []
   },
   "source": [
    "We will start by searching two parameters: max_depth and min_child_weight"
   ]
  },
  {
   "cell_type": "code",
   "execution_count": 40,
   "id": "24aa8577",
   "metadata": {
    "execution": {
     "iopub.execute_input": "2021-12-21T14:34:55.918696Z",
     "iopub.status.busy": "2021-12-21T14:34:55.918010Z",
     "iopub.status.idle": "2021-12-21T14:34:55.920731Z",
     "shell.execute_reply": "2021-12-21T14:34:55.920251Z",
     "shell.execute_reply.started": "2021-12-21T12:24:13.366743Z"
    },
    "papermill": {
     "duration": 0.128471,
     "end_time": "2021-12-21T14:34:55.920925",
     "exception": false,
     "start_time": "2021-12-21T14:34:55.792454",
     "status": "completed"
    },
    "tags": []
   },
   "outputs": [],
   "source": [
    "gridsearch_params = [\n",
    "    (max_depth, min_child_weight)\n",
    "    for max_depth in range(9,12)\n",
    "    for min_child_weight in range(5,8)\n",
    "]"
   ]
  },
  {
   "cell_type": "code",
   "execution_count": 41,
   "id": "7e248f98",
   "metadata": {
    "execution": {
     "iopub.execute_input": "2021-12-21T14:34:56.175328Z",
     "iopub.status.busy": "2021-12-21T14:34:56.174517Z",
     "iopub.status.idle": "2021-12-21T14:43:04.957752Z",
     "shell.execute_reply": "2021-12-21T14:43:04.958482Z",
     "shell.execute_reply.started": "2021-12-21T12:24:13.382864Z"
    },
    "papermill": {
     "duration": 488.913375,
     "end_time": "2021-12-21T14:43:04.958738",
     "exception": false,
     "start_time": "2021-12-21T14:34:56.045363",
     "status": "completed"
    },
    "tags": []
   },
   "outputs": [
    {
     "name": "stdout",
     "output_type": "stream",
     "text": [
      "CV with max_depth=9, min_child_weight=5\n",
      "[14:34:56] WARNING: ../src/objective/regression_obj.cu:171: reg:linear is now deprecated in favor of reg:squarederror.\n",
      "[14:34:56] WARNING: ../src/objective/regression_obj.cu:171: reg:linear is now deprecated in favor of reg:squarederror.\n",
      "[14:34:56] WARNING: ../src/objective/regression_obj.cu:171: reg:linear is now deprecated in favor of reg:squarederror.\n",
      "[14:34:57] WARNING: ../src/objective/regression_obj.cu:171: reg:linear is now deprecated in favor of reg:squarederror.\n",
      "[14:34:57] WARNING: ../src/objective/regression_obj.cu:171: reg:linear is now deprecated in favor of reg:squarederror.\n",
      "\\logloss 0.23889960000000002 for 50 rounds\n",
      "CV with max_depth=9, min_child_weight=6\n",
      "[14:35:52] WARNING: ../src/objective/regression_obj.cu:171: reg:linear is now deprecated in favor of reg:squarederror.\n",
      "[14:35:53] WARNING: ../src/objective/regression_obj.cu:171: reg:linear is now deprecated in favor of reg:squarederror.\n",
      "[14:35:53] WARNING: ../src/objective/regression_obj.cu:171: reg:linear is now deprecated in favor of reg:squarederror.\n",
      "[14:35:53] WARNING: ../src/objective/regression_obj.cu:171: reg:linear is now deprecated in favor of reg:squarederror.\n",
      "[14:35:53] WARNING: ../src/objective/regression_obj.cu:171: reg:linear is now deprecated in favor of reg:squarederror.\n",
      "\\logloss 0.23713879999999996 for 51 rounds\n",
      "CV with max_depth=9, min_child_weight=7\n",
      "[14:36:50] WARNING: ../src/objective/regression_obj.cu:171: reg:linear is now deprecated in favor of reg:squarederror.\n",
      "[14:36:51] WARNING: ../src/objective/regression_obj.cu:171: reg:linear is now deprecated in favor of reg:squarederror.\n",
      "[14:36:51] WARNING: ../src/objective/regression_obj.cu:171: reg:linear is now deprecated in favor of reg:squarederror.\n",
      "[14:36:51] WARNING: ../src/objective/regression_obj.cu:171: reg:linear is now deprecated in favor of reg:squarederror.\n",
      "[14:36:51] WARNING: ../src/objective/regression_obj.cu:171: reg:linear is now deprecated in favor of reg:squarederror.\n",
      "\\logloss 0.23428899999999997 for 59 rounds\n",
      "CV with max_depth=10, min_child_weight=5\n",
      "[14:37:55] WARNING: ../src/objective/regression_obj.cu:171: reg:linear is now deprecated in favor of reg:squarederror.\n",
      "[14:37:56] WARNING: ../src/objective/regression_obj.cu:171: reg:linear is now deprecated in favor of reg:squarederror.\n",
      "[14:37:56] WARNING: ../src/objective/regression_obj.cu:171: reg:linear is now deprecated in favor of reg:squarederror.\n",
      "[14:37:56] WARNING: ../src/objective/regression_obj.cu:171: reg:linear is now deprecated in favor of reg:squarederror.\n",
      "[14:37:57] WARNING: ../src/objective/regression_obj.cu:171: reg:linear is now deprecated in favor of reg:squarederror.\n",
      "\\logloss 0.23780779999999999 for 41 rounds\n",
      "CV with max_depth=10, min_child_weight=6\n",
      "[14:38:50] WARNING: ../src/objective/regression_obj.cu:171: reg:linear is now deprecated in favor of reg:squarederror.\n",
      "[14:38:50] WARNING: ../src/objective/regression_obj.cu:171: reg:linear is now deprecated in favor of reg:squarederror.\n",
      "[14:38:50] WARNING: ../src/objective/regression_obj.cu:171: reg:linear is now deprecated in favor of reg:squarederror.\n",
      "[14:38:51] WARNING: ../src/objective/regression_obj.cu:171: reg:linear is now deprecated in favor of reg:squarederror.\n",
      "[14:38:51] WARNING: ../src/objective/regression_obj.cu:171: reg:linear is now deprecated in favor of reg:squarederror.\n",
      "\\logloss 0.234883 for 36 rounds\n",
      "CV with max_depth=10, min_child_weight=7\n",
      "[14:39:40] WARNING: ../src/objective/regression_obj.cu:171: reg:linear is now deprecated in favor of reg:squarederror.\n",
      "[14:39:41] WARNING: ../src/objective/regression_obj.cu:171: reg:linear is now deprecated in favor of reg:squarederror.\n",
      "[14:39:41] WARNING: ../src/objective/regression_obj.cu:171: reg:linear is now deprecated in favor of reg:squarederror.\n",
      "[14:39:41] WARNING: ../src/objective/regression_obj.cu:171: reg:linear is now deprecated in favor of reg:squarederror.\n",
      "[14:39:41] WARNING: ../src/objective/regression_obj.cu:171: reg:linear is now deprecated in favor of reg:squarederror.\n",
      "\\logloss 0.2377204 for 40 rounds\n",
      "CV with max_depth=11, min_child_weight=5\n",
      "[14:40:34] WARNING: ../src/objective/regression_obj.cu:171: reg:linear is now deprecated in favor of reg:squarederror.\n",
      "[14:40:35] WARNING: ../src/objective/regression_obj.cu:171: reg:linear is now deprecated in favor of reg:squarederror.\n",
      "[14:40:35] WARNING: ../src/objective/regression_obj.cu:171: reg:linear is now deprecated in favor of reg:squarederror.\n",
      "[14:40:35] WARNING: ../src/objective/regression_obj.cu:171: reg:linear is now deprecated in favor of reg:squarederror.\n",
      "[14:40:36] WARNING: ../src/objective/regression_obj.cu:171: reg:linear is now deprecated in favor of reg:squarederror.\n",
      "\\logloss 0.2388586 for 27 rounds\n",
      "CV with max_depth=11, min_child_weight=6\n",
      "[14:41:19] WARNING: ../src/objective/regression_obj.cu:171: reg:linear is now deprecated in favor of reg:squarederror.\n",
      "[14:41:19] WARNING: ../src/objective/regression_obj.cu:171: reg:linear is now deprecated in favor of reg:squarederror.\n",
      "[14:41:20] WARNING: ../src/objective/regression_obj.cu:171: reg:linear is now deprecated in favor of reg:squarederror.\n",
      "[14:41:20] WARNING: ../src/objective/regression_obj.cu:171: reg:linear is now deprecated in favor of reg:squarederror.\n",
      "[14:41:20] WARNING: ../src/objective/regression_obj.cu:171: reg:linear is now deprecated in favor of reg:squarederror.\n",
      "\\logloss 0.2395578 for 32 rounds\n",
      "CV with max_depth=11, min_child_weight=7\n",
      "[14:42:09] WARNING: ../src/objective/regression_obj.cu:171: reg:linear is now deprecated in favor of reg:squarederror.\n",
      "[14:42:09] WARNING: ../src/objective/regression_obj.cu:171: reg:linear is now deprecated in favor of reg:squarederror.\n",
      "[14:42:10] WARNING: ../src/objective/regression_obj.cu:171: reg:linear is now deprecated in favor of reg:squarederror.\n",
      "[14:42:10] WARNING: ../src/objective/regression_obj.cu:171: reg:linear is now deprecated in favor of reg:squarederror.\n",
      "[14:42:10] WARNING: ../src/objective/regression_obj.cu:171: reg:linear is now deprecated in favor of reg:squarederror.\n",
      "\\logloss 0.23723580000000002 for 36 rounds\n",
      "Best params: 9, 7, logloss: 0.23428899999999997\n"
     ]
    }
   ],
   "source": [
    "min_log = float(\"Inf\")\n",
    "best_params = None\n",
    "for max_depth, min_child_weight in gridsearch_params:\n",
    "    print(\"CV with max_depth={}, min_child_weight={}\".format(\n",
    "                             max_depth,\n",
    "                             min_child_weight))\n",
    "    params['max_depth'] = max_depth\n",
    "    params['min_child_weight'] = min_child_weight\n",
    "    cv_results = xgb.cv(\n",
    "        params,\n",
    "        dtrain,\n",
    "        num_boost_round=999,\n",
    "        seed=42,\n",
    "        nfold=5,\n",
    "        metrics={'logloss'},\n",
    "        early_stopping_rounds=10)\n",
    "    \n",
    "    mean_log = cv_results['test-logloss-mean'].min()\n",
    "    boost_rounds = cv_results['test-logloss-mean'].argmin()\n",
    "    print(\"\\logloss {} for {} rounds\".format(mean_log, boost_rounds))\n",
    "    if mean_log < min_log:\n",
    "        min_log = mean_log\n",
    "        best_params = (max_depth,min_child_weight)\n",
    "print(\"Best params: {}, {}, logloss: {}\".format(best_params[0], best_params[1], min_log))"
   ]
  },
  {
   "cell_type": "markdown",
   "id": "6078a272",
   "metadata": {
    "papermill": {
     "duration": 0.132611,
     "end_time": "2021-12-21T14:43:05.226730",
     "exception": false,
     "start_time": "2021-12-21T14:43:05.094119",
     "status": "completed"
    },
    "tags": []
   },
   "source": [
    "Save these two parameters to the params dictionary"
   ]
  },
  {
   "cell_type": "code",
   "execution_count": 42,
   "id": "b40baa26",
   "metadata": {
    "execution": {
     "iopub.execute_input": "2021-12-21T14:43:05.497213Z",
     "iopub.status.busy": "2021-12-21T14:43:05.496557Z",
     "iopub.status.idle": "2021-12-21T14:43:05.501708Z",
     "shell.execute_reply": "2021-12-21T14:43:05.501162Z",
     "shell.execute_reply.started": "2021-12-21T12:31:22.299366Z"
    },
    "papermill": {
     "duration": 0.142557,
     "end_time": "2021-12-21T14:43:05.501921",
     "exception": false,
     "start_time": "2021-12-21T14:43:05.359364",
     "status": "completed"
    },
    "tags": []
   },
   "outputs": [],
   "source": [
    "params['max_depth'] = 9\n",
    "params['min_child_weight'] = 7"
   ]
  },
  {
   "cell_type": "markdown",
   "id": "7a9a8432",
   "metadata": {
    "papermill": {
     "duration": 0.135489,
     "end_time": "2021-12-21T14:43:05.771270",
     "exception": false,
     "start_time": "2021-12-21T14:43:05.635781",
     "status": "completed"
    },
    "tags": []
   },
   "source": [
    "Moving to the subsample and colsample paramters"
   ]
  },
  {
   "cell_type": "code",
   "execution_count": 43,
   "id": "0d6d3214",
   "metadata": {
    "execution": {
     "iopub.execute_input": "2021-12-21T14:43:06.047482Z",
     "iopub.status.busy": "2021-12-21T14:43:06.046798Z",
     "iopub.status.idle": "2021-12-21T14:43:06.050118Z",
     "shell.execute_reply": "2021-12-21T14:43:06.049566Z",
     "shell.execute_reply.started": "2021-12-21T12:31:22.305441Z"
    },
    "papermill": {
     "duration": 0.143859,
     "end_time": "2021-12-21T14:43:06.050277",
     "exception": false,
     "start_time": "2021-12-21T14:43:05.906418",
     "status": "completed"
    },
    "tags": []
   },
   "outputs": [],
   "source": [
    "gridsearch_params = [\n",
    "    (subsample, colsample)\n",
    "    for subsample in [i/10. for i in range(7,11)]\n",
    "    for colsample in [i/10. for i in range(7,11)]\n",
    "]"
   ]
  },
  {
   "cell_type": "code",
   "execution_count": 44,
   "id": "59b91658",
   "metadata": {
    "execution": {
     "iopub.execute_input": "2021-12-21T14:43:06.324579Z",
     "iopub.status.busy": "2021-12-21T14:43:06.323896Z",
     "iopub.status.idle": "2021-12-21T14:57:17.732920Z",
     "shell.execute_reply": "2021-12-21T14:57:17.733481Z",
     "shell.execute_reply.started": "2021-12-21T12:31:22.319495Z"
    },
    "papermill": {
     "duration": 851.550706,
     "end_time": "2021-12-21T14:57:17.733668",
     "exception": false,
     "start_time": "2021-12-21T14:43:06.182962",
     "status": "completed"
    },
    "tags": []
   },
   "outputs": [
    {
     "name": "stdout",
     "output_type": "stream",
     "text": [
      "CV with subsample=1.0, colsample=1.0\n",
      "[14:43:06] WARNING: ../src/objective/regression_obj.cu:171: reg:linear is now deprecated in favor of reg:squarederror.\n",
      "[14:43:06] WARNING: ../src/objective/regression_obj.cu:171: reg:linear is now deprecated in favor of reg:squarederror.\n",
      "[14:43:07] WARNING: ../src/objective/regression_obj.cu:171: reg:linear is now deprecated in favor of reg:squarederror.\n",
      "[14:43:07] WARNING: ../src/objective/regression_obj.cu:171: reg:linear is now deprecated in favor of reg:squarederror.\n",
      "[14:43:07] WARNING: ../src/objective/regression_obj.cu:171: reg:linear is now deprecated in favor of reg:squarederror.\n",
      "\\log 0.23428899999999997 for 59 rounds\n",
      "CV with subsample=1.0, colsample=0.9\n",
      "[14:44:11] WARNING: ../src/objective/regression_obj.cu:171: reg:linear is now deprecated in favor of reg:squarederror.\n",
      "[14:44:11] WARNING: ../src/objective/regression_obj.cu:171: reg:linear is now deprecated in favor of reg:squarederror.\n",
      "[14:44:12] WARNING: ../src/objective/regression_obj.cu:171: reg:linear is now deprecated in favor of reg:squarederror.\n",
      "[14:44:12] WARNING: ../src/objective/regression_obj.cu:171: reg:linear is now deprecated in favor of reg:squarederror.\n",
      "[14:44:12] WARNING: ../src/objective/regression_obj.cu:171: reg:linear is now deprecated in favor of reg:squarederror.\n",
      "\\log 0.2349954 for 52 rounds\n",
      "CV with subsample=1.0, colsample=0.8\n",
      "[14:45:06] WARNING: ../src/objective/regression_obj.cu:171: reg:linear is now deprecated in favor of reg:squarederror.\n",
      "[14:45:06] WARNING: ../src/objective/regression_obj.cu:171: reg:linear is now deprecated in favor of reg:squarederror.\n",
      "[14:45:06] WARNING: ../src/objective/regression_obj.cu:171: reg:linear is now deprecated in favor of reg:squarederror.\n",
      "[14:45:06] WARNING: ../src/objective/regression_obj.cu:171: reg:linear is now deprecated in favor of reg:squarederror.\n",
      "[14:45:07] WARNING: ../src/objective/regression_obj.cu:171: reg:linear is now deprecated in favor of reg:squarederror.\n",
      "\\log 0.23307219999999998 for 62 rounds\n",
      "CV with subsample=1.0, colsample=0.7\n",
      "[14:46:06] WARNING: ../src/objective/regression_obj.cu:171: reg:linear is now deprecated in favor of reg:squarederror.\n",
      "[14:46:06] WARNING: ../src/objective/regression_obj.cu:171: reg:linear is now deprecated in favor of reg:squarederror.\n",
      "[14:46:06] WARNING: ../src/objective/regression_obj.cu:171: reg:linear is now deprecated in favor of reg:squarederror.\n",
      "[14:46:06] WARNING: ../src/objective/regression_obj.cu:171: reg:linear is now deprecated in favor of reg:squarederror.\n",
      "[14:46:07] WARNING: ../src/objective/regression_obj.cu:171: reg:linear is now deprecated in favor of reg:squarederror.\n",
      "\\log 0.23170520000000003 for 65 rounds\n",
      "CV with subsample=0.9, colsample=1.0\n",
      "[14:47:04] WARNING: ../src/objective/regression_obj.cu:171: reg:linear is now deprecated in favor of reg:squarederror.\n",
      "[14:47:04] WARNING: ../src/objective/regression_obj.cu:171: reg:linear is now deprecated in favor of reg:squarederror.\n",
      "[14:47:04] WARNING: ../src/objective/regression_obj.cu:171: reg:linear is now deprecated in favor of reg:squarederror.\n",
      "[14:47:05] WARNING: ../src/objective/regression_obj.cu:171: reg:linear is now deprecated in favor of reg:squarederror.\n",
      "[14:47:05] WARNING: ../src/objective/regression_obj.cu:171: reg:linear is now deprecated in favor of reg:squarederror.\n",
      "\\log 0.2407316 for 54 rounds\n",
      "CV with subsample=0.9, colsample=0.9\n",
      "[14:48:05] WARNING: ../src/objective/regression_obj.cu:171: reg:linear is now deprecated in favor of reg:squarederror.\n",
      "[14:48:05] WARNING: ../src/objective/regression_obj.cu:171: reg:linear is now deprecated in favor of reg:squarederror.\n",
      "[14:48:05] WARNING: ../src/objective/regression_obj.cu:171: reg:linear is now deprecated in favor of reg:squarederror.\n",
      "[14:48:05] WARNING: ../src/objective/regression_obj.cu:171: reg:linear is now deprecated in favor of reg:squarederror.\n",
      "[14:48:06] WARNING: ../src/objective/regression_obj.cu:171: reg:linear is now deprecated in favor of reg:squarederror.\n",
      "\\log 0.23885459999999997 for 56 rounds\n",
      "CV with subsample=0.9, colsample=0.8\n",
      "[14:49:03] WARNING: ../src/objective/regression_obj.cu:171: reg:linear is now deprecated in favor of reg:squarederror.\n",
      "[14:49:03] WARNING: ../src/objective/regression_obj.cu:171: reg:linear is now deprecated in favor of reg:squarederror.\n",
      "[14:49:04] WARNING: ../src/objective/regression_obj.cu:171: reg:linear is now deprecated in favor of reg:squarederror.\n",
      "[14:49:04] WARNING: ../src/objective/regression_obj.cu:171: reg:linear is now deprecated in favor of reg:squarederror.\n",
      "[14:49:04] WARNING: ../src/objective/regression_obj.cu:171: reg:linear is now deprecated in favor of reg:squarederror.\n",
      "\\log 0.24133079999999998 for 57 rounds\n",
      "CV with subsample=0.9, colsample=0.7\n",
      "[14:49:59] WARNING: ../src/objective/regression_obj.cu:171: reg:linear is now deprecated in favor of reg:squarederror.\n",
      "[14:49:59] WARNING: ../src/objective/regression_obj.cu:171: reg:linear is now deprecated in favor of reg:squarederror.\n",
      "[14:50:00] WARNING: ../src/objective/regression_obj.cu:171: reg:linear is now deprecated in favor of reg:squarederror.\n",
      "[14:50:00] WARNING: ../src/objective/regression_obj.cu:171: reg:linear is now deprecated in favor of reg:squarederror.\n",
      "[14:50:00] WARNING: ../src/objective/regression_obj.cu:171: reg:linear is now deprecated in favor of reg:squarederror.\n",
      "\\log 0.2407102 for 60 rounds\n",
      "CV with subsample=0.8, colsample=1.0\n",
      "[14:50:56] WARNING: ../src/objective/regression_obj.cu:171: reg:linear is now deprecated in favor of reg:squarederror.\n",
      "[14:50:56] WARNING: ../src/objective/regression_obj.cu:171: reg:linear is now deprecated in favor of reg:squarederror.\n",
      "[14:50:56] WARNING: ../src/objective/regression_obj.cu:171: reg:linear is now deprecated in favor of reg:squarederror.\n",
      "[14:50:57] WARNING: ../src/objective/regression_obj.cu:171: reg:linear is now deprecated in favor of reg:squarederror.\n",
      "[14:50:57] WARNING: ../src/objective/regression_obj.cu:171: reg:linear is now deprecated in favor of reg:squarederror.\n",
      "\\log 0.24536380000000002 for 41 rounds\n",
      "CV with subsample=0.8, colsample=0.9\n",
      "[14:51:44] WARNING: ../src/objective/regression_obj.cu:171: reg:linear is now deprecated in favor of reg:squarederror.\n",
      "[14:51:45] WARNING: ../src/objective/regression_obj.cu:171: reg:linear is now deprecated in favor of reg:squarederror.\n",
      "[14:51:45] WARNING: ../src/objective/regression_obj.cu:171: reg:linear is now deprecated in favor of reg:squarederror.\n",
      "[14:51:45] WARNING: ../src/objective/regression_obj.cu:171: reg:linear is now deprecated in favor of reg:squarederror.\n",
      "[14:51:45] WARNING: ../src/objective/regression_obj.cu:171: reg:linear is now deprecated in favor of reg:squarederror.\n",
      "\\log 0.246427 for 53 rounds\n",
      "CV with subsample=0.8, colsample=0.8\n",
      "[14:52:39] WARNING: ../src/objective/regression_obj.cu:171: reg:linear is now deprecated in favor of reg:squarederror.\n",
      "[14:52:40] WARNING: ../src/objective/regression_obj.cu:171: reg:linear is now deprecated in favor of reg:squarederror.\n",
      "[14:52:40] WARNING: ../src/objective/regression_obj.cu:171: reg:linear is now deprecated in favor of reg:squarederror.\n",
      "[14:52:40] WARNING: ../src/objective/regression_obj.cu:171: reg:linear is now deprecated in favor of reg:squarederror.\n",
      "[14:52:40] WARNING: ../src/objective/regression_obj.cu:171: reg:linear is now deprecated in favor of reg:squarederror.\n",
      "\\log 0.24509699999999998 for 46 rounds\n",
      "CV with subsample=0.8, colsample=0.7\n",
      "[14:53:26] WARNING: ../src/objective/regression_obj.cu:171: reg:linear is now deprecated in favor of reg:squarederror.\n",
      "[14:53:26] WARNING: ../src/objective/regression_obj.cu:171: reg:linear is now deprecated in favor of reg:squarederror.\n",
      "[14:53:26] WARNING: ../src/objective/regression_obj.cu:171: reg:linear is now deprecated in favor of reg:squarederror.\n",
      "[14:53:26] WARNING: ../src/objective/regression_obj.cu:171: reg:linear is now deprecated in favor of reg:squarederror.\n",
      "[14:53:27] WARNING: ../src/objective/regression_obj.cu:171: reg:linear is now deprecated in favor of reg:squarederror.\n",
      "\\log 0.24595039999999999 for 48 rounds\n",
      "CV with subsample=0.7, colsample=1.0\n",
      "[14:54:12] WARNING: ../src/objective/regression_obj.cu:171: reg:linear is now deprecated in favor of reg:squarederror.\n",
      "[14:54:12] WARNING: ../src/objective/regression_obj.cu:171: reg:linear is now deprecated in favor of reg:squarederror.\n",
      "[14:54:13] WARNING: ../src/objective/regression_obj.cu:171: reg:linear is now deprecated in favor of reg:squarederror.\n",
      "[14:54:13] WARNING: ../src/objective/regression_obj.cu:171: reg:linear is now deprecated in favor of reg:squarederror.\n",
      "[14:54:13] WARNING: ../src/objective/regression_obj.cu:171: reg:linear is now deprecated in favor of reg:squarederror.\n",
      "\\log 0.25163079999999993 for 42 rounds\n",
      "CV with subsample=0.7, colsample=0.9\n",
      "[14:55:03] WARNING: ../src/objective/regression_obj.cu:171: reg:linear is now deprecated in favor of reg:squarederror.\n",
      "[14:55:03] WARNING: ../src/objective/regression_obj.cu:171: reg:linear is now deprecated in favor of reg:squarederror.\n",
      "[14:55:03] WARNING: ../src/objective/regression_obj.cu:171: reg:linear is now deprecated in favor of reg:squarederror.\n",
      "[14:55:04] WARNING: ../src/objective/regression_obj.cu:171: reg:linear is now deprecated in favor of reg:squarederror.\n",
      "[14:55:04] WARNING: ../src/objective/regression_obj.cu:171: reg:linear is now deprecated in favor of reg:squarederror.\n",
      "\\log 0.2469042 for 43 rounds\n",
      "CV with subsample=0.7, colsample=0.8\n",
      "[14:55:49] WARNING: ../src/objective/regression_obj.cu:171: reg:linear is now deprecated in favor of reg:squarederror.\n",
      "[14:55:49] WARNING: ../src/objective/regression_obj.cu:171: reg:linear is now deprecated in favor of reg:squarederror.\n",
      "[14:55:50] WARNING: ../src/objective/regression_obj.cu:171: reg:linear is now deprecated in favor of reg:squarederror.\n",
      "[14:55:50] WARNING: ../src/objective/regression_obj.cu:171: reg:linear is now deprecated in favor of reg:squarederror.\n",
      "[14:55:50] WARNING: ../src/objective/regression_obj.cu:171: reg:linear is now deprecated in favor of reg:squarederror.\n",
      "\\log 0.25210160000000004 for 45 rounds\n",
      "CV with subsample=0.7, colsample=0.7\n",
      "[14:56:35] WARNING: ../src/objective/regression_obj.cu:171: reg:linear is now deprecated in favor of reg:squarederror.\n",
      "[14:56:36] WARNING: ../src/objective/regression_obj.cu:171: reg:linear is now deprecated in favor of reg:squarederror.\n",
      "[14:56:36] WARNING: ../src/objective/regression_obj.cu:171: reg:linear is now deprecated in favor of reg:squarederror.\n",
      "[14:56:36] WARNING: ../src/objective/regression_obj.cu:171: reg:linear is now deprecated in favor of reg:squarederror.\n",
      "[14:56:36] WARNING: ../src/objective/regression_obj.cu:171: reg:linear is now deprecated in favor of reg:squarederror.\n",
      "\\log 0.2504474 for 43 rounds\n",
      "Best params: 1.0, 0.7, log: 0.23170520000000003\n"
     ]
    }
   ],
   "source": [
    "min_log = float(\"Inf\")\n",
    "best_params = None\n",
    "for subsample, colsample in reversed(gridsearch_params):\n",
    "    print(\"CV with subsample={}, colsample={}\".format(\n",
    "                             subsample,\n",
    "                             colsample))\n",
    "    params['subsample'] = subsample\n",
    "    params['colsample_bytree'] = colsample\n",
    "    cv_results = xgb.cv(\n",
    "        params,\n",
    "        dtrain,\n",
    "        num_boost_round=500,\n",
    "        seed=42,\n",
    "        nfold=5,\n",
    "        metrics={'logloss'},\n",
    "        early_stopping_rounds=10\n",
    "    )\n",
    "    mean_log = cv_results['test-logloss-mean'].min()\n",
    "    boost_rounds = cv_results['test-logloss-mean'].argmin()\n",
    "    print(\"\\log {} for {} rounds\".format(mean_log, boost_rounds))\n",
    "    if mean_log < min_log:\n",
    "        min_log = mean_log\n",
    "        best_params = (subsample,colsample)\n",
    "print(\"Best params: {}, {}, log: {}\".format(best_params[0], best_params[1], min_log))"
   ]
  },
  {
   "cell_type": "markdown",
   "id": "30920687",
   "metadata": {
    "papermill": {
     "duration": 0.163763,
     "end_time": "2021-12-21T14:57:18.063690",
     "exception": false,
     "start_time": "2021-12-21T14:57:17.899927",
     "status": "completed"
    },
    "tags": []
   },
   "source": [
    "The optimal results are 1 and 0.7"
   ]
  },
  {
   "cell_type": "code",
   "execution_count": 45,
   "id": "90bd0af5",
   "metadata": {
    "execution": {
     "iopub.execute_input": "2021-12-21T14:57:18.388949Z",
     "iopub.status.busy": "2021-12-21T14:57:18.388262Z",
     "iopub.status.idle": "2021-12-21T14:57:18.390623Z",
     "shell.execute_reply": "2021-12-21T14:57:18.391722Z",
     "shell.execute_reply.started": "2021-12-21T12:43:25.240842Z"
    },
    "papermill": {
     "duration": 0.168541,
     "end_time": "2021-12-21T14:57:18.391917",
     "exception": false,
     "start_time": "2021-12-21T14:57:18.223376",
     "status": "completed"
    },
    "tags": []
   },
   "outputs": [],
   "source": [
    "params['subsample'] = 1.0\n",
    "params['colsample_bytree'] = .7"
   ]
  },
  {
   "cell_type": "markdown",
   "id": "ca5e03ec",
   "metadata": {
    "papermill": {
     "duration": 0.160034,
     "end_time": "2021-12-21T14:57:18.712088",
     "exception": false,
     "start_time": "2021-12-21T14:57:18.552054",
     "status": "completed"
    },
    "tags": []
   },
   "source": [
    "Tuning the learning rate might take some time, if you clone the code prepare to wait up to 30mins for this cell to be executed"
   ]
  },
  {
   "cell_type": "code",
   "execution_count": 46,
   "id": "b082812d",
   "metadata": {
    "execution": {
     "iopub.execute_input": "2021-12-21T14:57:19.047015Z",
     "iopub.status.busy": "2021-12-21T14:57:19.046312Z",
     "iopub.status.idle": "2021-12-21T15:23:26.058882Z",
     "shell.execute_reply": "2021-12-21T15:23:26.059629Z",
     "shell.execute_reply.started": "2021-12-21T12:43:25.248626Z"
    },
    "papermill": {
     "duration": 1567.185669,
     "end_time": "2021-12-21T15:23:26.059894",
     "exception": false,
     "start_time": "2021-12-21T14:57:18.874225",
     "status": "completed"
    },
    "tags": []
   },
   "outputs": [
    {
     "name": "stdout",
     "output_type": "stream",
     "text": [
      "CV with eta=0.3\n",
      "[14:57:19] WARNING: ../src/objective/regression_obj.cu:171: reg:linear is now deprecated in favor of reg:squarederror.\n",
      "[14:57:19] WARNING: ../src/objective/regression_obj.cu:171: reg:linear is now deprecated in favor of reg:squarederror.\n",
      "[14:57:19] WARNING: ../src/objective/regression_obj.cu:171: reg:linear is now deprecated in favor of reg:squarederror.\n",
      "[14:57:19] WARNING: ../src/objective/regression_obj.cu:171: reg:linear is now deprecated in favor of reg:squarederror.\n",
      "[14:57:20] WARNING: ../src/objective/regression_obj.cu:171: reg:linear is now deprecated in favor of reg:squarederror.\n",
      "\\Log Loss 0.23170520000000003 for 65 rounds\n",
      "\n",
      "CV with eta=0.2\n",
      "[14:58:18] WARNING: ../src/objective/regression_obj.cu:171: reg:linear is now deprecated in favor of reg:squarederror.\n",
      "[14:58:18] WARNING: ../src/objective/regression_obj.cu:171: reg:linear is now deprecated in favor of reg:squarederror.\n",
      "[14:58:18] WARNING: ../src/objective/regression_obj.cu:171: reg:linear is now deprecated in favor of reg:squarederror.\n",
      "[14:58:19] WARNING: ../src/objective/regression_obj.cu:171: reg:linear is now deprecated in favor of reg:squarederror.\n",
      "[14:58:19] WARNING: ../src/objective/regression_obj.cu:171: reg:linear is now deprecated in favor of reg:squarederror.\n",
      "\\Log Loss 0.2262652 for 105 rounds\n",
      "\n",
      "CV with eta=0.1\n",
      "[14:59:47] WARNING: ../src/objective/regression_obj.cu:171: reg:linear is now deprecated in favor of reg:squarederror.\n",
      "[14:59:47] WARNING: ../src/objective/regression_obj.cu:171: reg:linear is now deprecated in favor of reg:squarederror.\n",
      "[14:59:48] WARNING: ../src/objective/regression_obj.cu:171: reg:linear is now deprecated in favor of reg:squarederror.\n",
      "[14:59:48] WARNING: ../src/objective/regression_obj.cu:171: reg:linear is now deprecated in favor of reg:squarederror.\n",
      "[14:59:48] WARNING: ../src/objective/regression_obj.cu:171: reg:linear is now deprecated in favor of reg:squarederror.\n",
      "\\Log Loss 0.21405160000000004 for 303 rounds\n",
      "\n",
      "CV with eta=0.05\n",
      "[15:03:47] WARNING: ../src/objective/regression_obj.cu:171: reg:linear is now deprecated in favor of reg:squarederror.\n",
      "[15:03:47] WARNING: ../src/objective/regression_obj.cu:171: reg:linear is now deprecated in favor of reg:squarederror.\n",
      "[15:03:48] WARNING: ../src/objective/regression_obj.cu:171: reg:linear is now deprecated in favor of reg:squarederror.\n",
      "[15:03:48] WARNING: ../src/objective/regression_obj.cu:171: reg:linear is now deprecated in favor of reg:squarederror.\n",
      "[15:03:48] WARNING: ../src/objective/regression_obj.cu:171: reg:linear is now deprecated in favor of reg:squarederror.\n",
      "\\Log Loss 0.21528999999999998 for 496 rounds\n",
      "\n",
      "CV with eta=0.01\n",
      "[15:10:09] WARNING: ../src/objective/regression_obj.cu:171: reg:linear is now deprecated in favor of reg:squarederror.\n",
      "[15:10:09] WARNING: ../src/objective/regression_obj.cu:171: reg:linear is now deprecated in favor of reg:squarederror.\n",
      "[15:10:10] WARNING: ../src/objective/regression_obj.cu:171: reg:linear is now deprecated in favor of reg:squarederror.\n",
      "[15:10:10] WARNING: ../src/objective/regression_obj.cu:171: reg:linear is now deprecated in favor of reg:squarederror.\n",
      "[15:10:10] WARNING: ../src/objective/regression_obj.cu:171: reg:linear is now deprecated in favor of reg:squarederror.\n",
      "\\Log Loss 0.28101760000000003 for 499 rounds\n",
      "\n",
      "CV with eta=0.005\n",
      "[15:16:45] WARNING: ../src/objective/regression_obj.cu:171: reg:linear is now deprecated in favor of reg:squarederror.\n",
      "[15:16:46] WARNING: ../src/objective/regression_obj.cu:171: reg:linear is now deprecated in favor of reg:squarederror.\n",
      "[15:16:46] WARNING: ../src/objective/regression_obj.cu:171: reg:linear is now deprecated in favor of reg:squarederror.\n",
      "[15:16:46] WARNING: ../src/objective/regression_obj.cu:171: reg:linear is now deprecated in favor of reg:squarederror.\n",
      "[15:16:46] WARNING: ../src/objective/regression_obj.cu:171: reg:linear is now deprecated in favor of reg:squarederror.\n",
      "\\Log Loss 0.31749499999999997 for 499 rounds\n",
      "\n",
      "Best params: 0.1, Log Loss: 0.21405160000000004\n"
     ]
    }
   ],
   "source": [
    "min_log = float(\"Inf\")\n",
    "best_params = None\n",
    "for eta in [.3, .2, .1, .05, .01, .005]:\n",
    "    print(\"CV with eta={}\".format(eta))\n",
    "    params['eta'] = eta\n",
    "    cv_results = xgb.cv(\n",
    "    params,\n",
    "    dtrain,\n",
    "    num_boost_round=500,\n",
    "    seed=42,\n",
    "    nfold=5,\n",
    "    metrics=['logloss'],\n",
    "    early_stopping_rounds=10)\n",
    "    mean_log = cv_results['test-logloss-mean'].min()\n",
    "    boost_rounds = cv_results['test-logloss-mean'].argmin()\n",
    "    print(\"\\Log Loss {} for {} rounds\\n\".format(mean_log, boost_rounds))\n",
    "    if mean_log < min_log:\n",
    "        min_log = mean_log\n",
    "        best_params = eta\n",
    "print(\"Best params: {}, Log Loss: {}\".format(best_params, min_log))"
   ]
  },
  {
   "cell_type": "markdown",
   "id": "4de6d4ef",
   "metadata": {
    "papermill": {
     "duration": 0.17222,
     "end_time": "2021-12-21T15:23:26.407502",
     "exception": false,
     "start_time": "2021-12-21T15:23:26.235282",
     "status": "completed"
    },
    "tags": []
   },
   "source": [
    "The best learning rate is 0.1"
   ]
  },
  {
   "cell_type": "code",
   "execution_count": 47,
   "id": "6aaa492f",
   "metadata": {
    "execution": {
     "iopub.execute_input": "2021-12-21T15:23:26.757934Z",
     "iopub.status.busy": "2021-12-21T15:23:26.756909Z",
     "iopub.status.idle": "2021-12-21T15:23:26.761043Z",
     "shell.execute_reply": "2021-12-21T15:23:26.761624Z",
     "shell.execute_reply.started": "2021-12-21T13:04:58.940891Z"
    },
    "papermill": {
     "duration": 0.180294,
     "end_time": "2021-12-21T15:23:26.761845",
     "exception": false,
     "start_time": "2021-12-21T15:23:26.581551",
     "status": "completed"
    },
    "tags": []
   },
   "outputs": [],
   "source": [
    "params['eta'] = .1"
   ]
  },
  {
   "cell_type": "markdown",
   "id": "4f39dcd7",
   "metadata": {
    "papermill": {
     "duration": 0.176013,
     "end_time": "2021-12-21T15:23:27.110588",
     "exception": false,
     "start_time": "2021-12-21T15:23:26.934575",
     "status": "completed"
    },
    "tags": []
   },
   "source": [
    "Let us have a look at the parameters we have got so far"
   ]
  },
  {
   "cell_type": "code",
   "execution_count": 48,
   "id": "570b405c",
   "metadata": {
    "execution": {
     "iopub.execute_input": "2021-12-21T15:23:27.460874Z",
     "iopub.status.busy": "2021-12-21T15:23:27.459843Z",
     "iopub.status.idle": "2021-12-21T15:23:27.465953Z",
     "shell.execute_reply": "2021-12-21T15:23:27.466532Z",
     "shell.execute_reply.started": "2021-12-21T13:04:58.949302Z"
    },
    "papermill": {
     "duration": 0.182317,
     "end_time": "2021-12-21T15:23:27.466725",
     "exception": false,
     "start_time": "2021-12-21T15:23:27.284408",
     "status": "completed"
    },
    "tags": []
   },
   "outputs": [
    {
     "data": {
      "text/plain": [
       "{'max_depth': 9,\n",
       " 'min_child_weight': 7,\n",
       " 'eta': 0.1,\n",
       " 'subsample': 1.0,\n",
       " 'colsample_bytree': 0.7,\n",
       " 'objective': 'reg:linear',\n",
       " 'eval_metric': 'logloss'}"
      ]
     },
     "execution_count": 48,
     "metadata": {},
     "output_type": "execute_result"
    }
   ],
   "source": [
    "params"
   ]
  },
  {
   "cell_type": "markdown",
   "id": "065cf82b",
   "metadata": {
    "papermill": {
     "duration": 0.173029,
     "end_time": "2021-12-21T15:23:27.813767",
     "exception": false,
     "start_time": "2021-12-21T15:23:27.640738",
     "status": "completed"
    },
    "tags": []
   },
   "source": [
    "Train the model"
   ]
  },
  {
   "cell_type": "code",
   "execution_count": 49,
   "id": "cb6a7dc4",
   "metadata": {
    "execution": {
     "iopub.execute_input": "2021-12-21T15:23:28.167660Z",
     "iopub.status.busy": "2021-12-21T15:23:28.166677Z",
     "iopub.status.idle": "2021-12-21T15:24:17.395133Z",
     "shell.execute_reply": "2021-12-21T15:24:17.396041Z",
     "shell.execute_reply.started": "2021-12-21T13:04:58.965849Z"
    },
    "papermill": {
     "duration": 49.407657,
     "end_time": "2021-12-21T15:24:17.396392",
     "exception": false,
     "start_time": "2021-12-21T15:23:27.988735",
     "status": "completed"
    },
    "tags": []
   },
   "outputs": [
    {
     "name": "stdout",
     "output_type": "stream",
     "text": [
      "[15:23:28] WARNING: ../src/objective/regression_obj.cu:171: reg:linear is now deprecated in favor of reg:squarederror.\n",
      "[0]\tTest-logloss:0.63691\n",
      "[1]\tTest-logloss:0.59047\n",
      "[2]\tTest-logloss:0.55166\n",
      "[3]\tTest-logloss:0.51921\n",
      "[4]\tTest-logloss:0.49198\n",
      "[5]\tTest-logloss:0.46888\n",
      "[6]\tTest-logloss:0.44801\n",
      "[7]\tTest-logloss:0.42949\n",
      "[8]\tTest-logloss:0.41458\n",
      "[9]\tTest-logloss:0.40144\n",
      "[10]\tTest-logloss:0.39030\n",
      "[11]\tTest-logloss:0.38074\n",
      "[12]\tTest-logloss:0.37158\n",
      "[13]\tTest-logloss:0.36364\n",
      "[14]\tTest-logloss:0.35449\n",
      "[15]\tTest-logloss:0.34798\n",
      "[16]\tTest-logloss:0.34269\n",
      "[17]\tTest-logloss:0.33812\n",
      "[18]\tTest-logloss:0.33385\n",
      "[19]\tTest-logloss:0.33014\n",
      "[20]\tTest-logloss:0.32643\n",
      "[21]\tTest-logloss:0.32348\n",
      "[22]\tTest-logloss:0.32028\n",
      "[23]\tTest-logloss:0.31739\n",
      "[24]\tTest-logloss:0.31410\n",
      "[25]\tTest-logloss:0.31143\n",
      "[26]\tTest-logloss:0.30854\n",
      "[27]\tTest-logloss:0.30630\n",
      "[28]\tTest-logloss:0.30361\n",
      "[29]\tTest-logloss:0.30202\n",
      "[30]\tTest-logloss:0.30059\n",
      "[31]\tTest-logloss:0.29942\n",
      "[32]\tTest-logloss:0.29737\n",
      "[33]\tTest-logloss:0.29646\n",
      "[34]\tTest-logloss:0.29454\n",
      "[35]\tTest-logloss:0.29276\n",
      "[36]\tTest-logloss:0.29190\n",
      "[37]\tTest-logloss:0.29126\n",
      "[38]\tTest-logloss:0.28904\n",
      "[39]\tTest-logloss:0.28840\n",
      "[40]\tTest-logloss:0.28726\n",
      "[41]\tTest-logloss:0.28546\n",
      "[42]\tTest-logloss:0.28394\n",
      "[43]\tTest-logloss:0.28339\n",
      "[44]\tTest-logloss:0.28290\n",
      "[45]\tTest-logloss:0.28238\n",
      "[46]\tTest-logloss:0.28168\n",
      "[47]\tTest-logloss:0.28122\n",
      "[48]\tTest-logloss:0.28032\n",
      "[49]\tTest-logloss:0.27999\n",
      "[50]\tTest-logloss:0.27965\n",
      "[51]\tTest-logloss:0.27871\n",
      "[52]\tTest-logloss:0.27850\n",
      "[53]\tTest-logloss:0.27765\n",
      "[54]\tTest-logloss:0.27715\n",
      "[55]\tTest-logloss:0.27508\n",
      "[56]\tTest-logloss:0.27432\n",
      "[57]\tTest-logloss:0.27257\n",
      "[58]\tTest-logloss:0.27123\n",
      "[59]\tTest-logloss:0.27022\n",
      "[60]\tTest-logloss:0.26986\n",
      "[61]\tTest-logloss:0.26962\n",
      "[62]\tTest-logloss:0.26889\n",
      "[63]\tTest-logloss:0.26855\n",
      "[64]\tTest-logloss:0.26736\n",
      "[65]\tTest-logloss:0.26544\n",
      "[66]\tTest-logloss:0.26390\n",
      "[67]\tTest-logloss:0.26338\n",
      "[68]\tTest-logloss:0.26324\n",
      "[69]\tTest-logloss:0.26308\n",
      "[70]\tTest-logloss:0.26239\n",
      "[71]\tTest-logloss:0.26019\n",
      "[72]\tTest-logloss:0.25899\n",
      "[73]\tTest-logloss:0.25867\n",
      "[74]\tTest-logloss:0.25750\n",
      "[75]\tTest-logloss:0.25704\n",
      "[76]\tTest-logloss:0.25657\n",
      "[77]\tTest-logloss:0.25493\n",
      "[78]\tTest-logloss:0.25468\n",
      "[79]\tTest-logloss:0.25401\n",
      "[80]\tTest-logloss:0.25387\n",
      "[81]\tTest-logloss:0.25382\n",
      "[82]\tTest-logloss:0.25371\n",
      "[83]\tTest-logloss:0.25306\n",
      "[84]\tTest-logloss:0.25227\n",
      "[85]\tTest-logloss:0.25213\n",
      "[86]\tTest-logloss:0.25193\n",
      "[87]\tTest-logloss:0.25186\n",
      "[88]\tTest-logloss:0.25049\n",
      "[89]\tTest-logloss:0.25036\n",
      "[90]\tTest-logloss:0.24912\n",
      "[91]\tTest-logloss:0.24783\n",
      "[92]\tTest-logloss:0.24735\n",
      "[93]\tTest-logloss:0.24738\n",
      "[94]\tTest-logloss:0.24704\n",
      "[95]\tTest-logloss:0.24633\n",
      "[96]\tTest-logloss:0.24583\n",
      "[97]\tTest-logloss:0.24583\n",
      "[98]\tTest-logloss:0.24511\n",
      "[99]\tTest-logloss:0.24482\n",
      "[100]\tTest-logloss:0.24429\n",
      "[101]\tTest-logloss:0.24410\n",
      "[102]\tTest-logloss:0.24348\n",
      "[103]\tTest-logloss:0.24313\n",
      "[104]\tTest-logloss:0.24201\n",
      "[105]\tTest-logloss:0.24198\n",
      "[106]\tTest-logloss:0.24161\n",
      "[107]\tTest-logloss:0.24161\n",
      "[108]\tTest-logloss:0.24104\n",
      "[109]\tTest-logloss:0.24107\n",
      "[110]\tTest-logloss:0.24068\n",
      "[111]\tTest-logloss:0.24069\n",
      "[112]\tTest-logloss:0.24016\n",
      "[113]\tTest-logloss:0.23929\n",
      "[114]\tTest-logloss:0.23883\n",
      "[115]\tTest-logloss:0.23876\n",
      "[116]\tTest-logloss:0.23875\n",
      "[117]\tTest-logloss:0.23838\n",
      "[118]\tTest-logloss:0.23725\n",
      "[119]\tTest-logloss:0.23613\n",
      "[120]\tTest-logloss:0.23542\n",
      "[121]\tTest-logloss:0.23500\n",
      "[122]\tTest-logloss:0.23505\n",
      "[123]\tTest-logloss:0.23494\n",
      "[124]\tTest-logloss:0.23527\n",
      "[125]\tTest-logloss:0.23478\n",
      "[126]\tTest-logloss:0.23434\n",
      "[127]\tTest-logloss:0.23400\n",
      "[128]\tTest-logloss:0.23375\n",
      "[129]\tTest-logloss:0.23354\n",
      "[130]\tTest-logloss:0.23293\n",
      "[131]\tTest-logloss:0.23273\n",
      "[132]\tTest-logloss:0.23269\n",
      "[133]\tTest-logloss:0.23269\n",
      "[134]\tTest-logloss:0.23219\n",
      "[135]\tTest-logloss:0.23187\n",
      "[136]\tTest-logloss:0.23157\n",
      "[137]\tTest-logloss:0.23095\n",
      "[138]\tTest-logloss:0.23066\n",
      "[139]\tTest-logloss:0.23048\n",
      "[140]\tTest-logloss:0.23017\n",
      "[141]\tTest-logloss:0.22988\n",
      "[142]\tTest-logloss:0.22988\n",
      "[143]\tTest-logloss:0.22936\n",
      "[144]\tTest-logloss:0.22916\n",
      "[145]\tTest-logloss:0.22891\n",
      "[146]\tTest-logloss:0.22891\n",
      "[147]\tTest-logloss:0.22870\n",
      "[148]\tTest-logloss:0.22853\n",
      "[149]\tTest-logloss:0.22856\n",
      "[150]\tTest-logloss:0.22803\n",
      "[151]\tTest-logloss:0.22738\n",
      "[152]\tTest-logloss:0.22741\n",
      "[153]\tTest-logloss:0.22654\n",
      "[154]\tTest-logloss:0.22636\n",
      "[155]\tTest-logloss:0.22624\n",
      "[156]\tTest-logloss:0.22571\n",
      "[157]\tTest-logloss:0.22573\n",
      "[158]\tTest-logloss:0.22564\n",
      "[159]\tTest-logloss:0.22568\n",
      "[160]\tTest-logloss:0.22568\n",
      "[161]\tTest-logloss:0.22568\n",
      "[162]\tTest-logloss:0.22576\n",
      "[163]\tTest-logloss:0.22543\n",
      "[164]\tTest-logloss:0.22528\n",
      "[165]\tTest-logloss:0.22526\n",
      "[166]\tTest-logloss:0.22493\n",
      "[167]\tTest-logloss:0.22466\n",
      "[168]\tTest-logloss:0.22448\n",
      "[169]\tTest-logloss:0.22451\n",
      "[170]\tTest-logloss:0.22427\n",
      "[171]\tTest-logloss:0.22366\n",
      "[172]\tTest-logloss:0.22309\n",
      "[173]\tTest-logloss:0.22308\n",
      "[174]\tTest-logloss:0.22236\n",
      "[175]\tTest-logloss:0.22224\n",
      "[176]\tTest-logloss:0.22221\n",
      "[177]\tTest-logloss:0.22222\n",
      "[178]\tTest-logloss:0.22223\n",
      "[179]\tTest-logloss:0.22222\n",
      "[180]\tTest-logloss:0.22289\n",
      "[181]\tTest-logloss:0.22343\n",
      "[182]\tTest-logloss:0.22293\n",
      "[183]\tTest-logloss:0.22287\n",
      "[184]\tTest-logloss:0.22288\n",
      "[185]\tTest-logloss:0.22253\n",
      "[186]\tTest-logloss:0.22194\n",
      "[187]\tTest-logloss:0.22178\n",
      "[188]\tTest-logloss:0.22155\n",
      "[189]\tTest-logloss:0.22142\n",
      "[190]\tTest-logloss:0.22144\n",
      "[191]\tTest-logloss:0.22147\n",
      "[192]\tTest-logloss:0.22099\n",
      "[193]\tTest-logloss:0.22059\n",
      "[194]\tTest-logloss:0.22042\n",
      "[195]\tTest-logloss:0.22037\n",
      "[196]\tTest-logloss:0.22038\n",
      "[197]\tTest-logloss:0.21975\n",
      "[198]\tTest-logloss:0.21943\n",
      "[199]\tTest-logloss:0.21916\n",
      "[200]\tTest-logloss:0.21915\n",
      "[201]\tTest-logloss:0.21872\n",
      "[202]\tTest-logloss:0.21872\n",
      "[203]\tTest-logloss:0.21872\n",
      "[204]\tTest-logloss:0.21850\n",
      "[205]\tTest-logloss:0.21848\n",
      "[206]\tTest-logloss:0.21839\n",
      "[207]\tTest-logloss:0.21815\n",
      "[208]\tTest-logloss:0.21805\n",
      "[209]\tTest-logloss:0.21787\n",
      "[210]\tTest-logloss:0.21761\n",
      "[211]\tTest-logloss:0.21742\n",
      "[212]\tTest-logloss:0.21773\n",
      "[213]\tTest-logloss:0.21829\n",
      "[214]\tTest-logloss:0.21812\n",
      "[215]\tTest-logloss:0.21768\n",
      "[216]\tTest-logloss:0.21723\n",
      "[217]\tTest-logloss:0.21791\n",
      "[218]\tTest-logloss:0.21777\n",
      "[219]\tTest-logloss:0.21779\n",
      "[220]\tTest-logloss:0.21723\n",
      "[221]\tTest-logloss:0.21722\n",
      "[222]\tTest-logloss:0.21723\n",
      "[223]\tTest-logloss:0.21740\n",
      "[224]\tTest-logloss:0.21732\n",
      "[225]\tTest-logloss:0.21733\n",
      "[226]\tTest-logloss:0.21714\n",
      "[227]\tTest-logloss:0.21707\n",
      "[228]\tTest-logloss:0.21705\n",
      "[229]\tTest-logloss:0.21705\n",
      "[230]\tTest-logloss:0.21685\n",
      "[231]\tTest-logloss:0.21682\n",
      "[232]\tTest-logloss:0.21686\n",
      "[233]\tTest-logloss:0.21668\n",
      "[234]\tTest-logloss:0.21654\n",
      "[235]\tTest-logloss:0.21657\n",
      "[236]\tTest-logloss:0.21576\n",
      "[237]\tTest-logloss:0.21542\n",
      "[238]\tTest-logloss:0.21515\n",
      "[239]\tTest-logloss:0.21498\n",
      "[240]\tTest-logloss:0.21472\n",
      "[241]\tTest-logloss:0.21448\n",
      "[242]\tTest-logloss:0.21429\n",
      "[243]\tTest-logloss:0.21428\n",
      "[244]\tTest-logloss:0.21425\n",
      "[245]\tTest-logloss:0.21490\n",
      "[246]\tTest-logloss:0.21465\n",
      "[247]\tTest-logloss:0.21513\n",
      "[248]\tTest-logloss:0.21518\n",
      "[249]\tTest-logloss:0.21505\n",
      "[250]\tTest-logloss:0.21506\n",
      "[251]\tTest-logloss:0.21505\n",
      "[252]\tTest-logloss:0.21497\n",
      "[253]\tTest-logloss:0.21557\n",
      "Best Log: 0.21 in 245 rounds\n"
     ]
    }
   ],
   "source": [
    "model = xgb.train(\n",
    "    params,\n",
    "    dtrain,\n",
    "    num_boost_round=900,\n",
    "    evals=[(dtest, \"Test\")],\n",
    "    early_stopping_rounds=10\n",
    ")\n",
    "\n",
    "print(\"Best Log: {:.2f} in {} rounds\".format(model.best_score, model.best_iteration+1))"
   ]
  },
  {
   "cell_type": "code",
   "execution_count": 50,
   "id": "9810df6e",
   "metadata": {
    "execution": {
     "iopub.execute_input": "2021-12-21T15:24:17.939763Z",
     "iopub.status.busy": "2021-12-21T15:24:17.938827Z",
     "iopub.status.idle": "2021-12-21T15:25:06.282526Z",
     "shell.execute_reply": "2021-12-21T15:25:06.281938Z",
     "shell.execute_reply.started": "2021-12-21T13:05:39.850184Z"
    },
    "papermill": {
     "duration": 48.630234,
     "end_time": "2021-12-21T15:25:06.282698",
     "exception": false,
     "start_time": "2021-12-21T15:24:17.652464",
     "status": "completed"
    },
    "tags": []
   },
   "outputs": [
    {
     "name": "stdout",
     "output_type": "stream",
     "text": [
      "[15:24:17] WARNING: ../src/objective/regression_obj.cu:171: reg:linear is now deprecated in favor of reg:squarederror.\n",
      "[0]\tTest-logloss:0.63691\n",
      "[1]\tTest-logloss:0.59047\n",
      "[2]\tTest-logloss:0.55166\n",
      "[3]\tTest-logloss:0.51921\n",
      "[4]\tTest-logloss:0.49198\n",
      "[5]\tTest-logloss:0.46888\n",
      "[6]\tTest-logloss:0.44801\n",
      "[7]\tTest-logloss:0.42949\n",
      "[8]\tTest-logloss:0.41458\n",
      "[9]\tTest-logloss:0.40144\n",
      "[10]\tTest-logloss:0.39030\n",
      "[11]\tTest-logloss:0.38074\n",
      "[12]\tTest-logloss:0.37158\n",
      "[13]\tTest-logloss:0.36364\n",
      "[14]\tTest-logloss:0.35449\n",
      "[15]\tTest-logloss:0.34798\n",
      "[16]\tTest-logloss:0.34269\n",
      "[17]\tTest-logloss:0.33812\n",
      "[18]\tTest-logloss:0.33385\n",
      "[19]\tTest-logloss:0.33014\n",
      "[20]\tTest-logloss:0.32643\n",
      "[21]\tTest-logloss:0.32348\n",
      "[22]\tTest-logloss:0.32028\n",
      "[23]\tTest-logloss:0.31739\n",
      "[24]\tTest-logloss:0.31410\n",
      "[25]\tTest-logloss:0.31143\n",
      "[26]\tTest-logloss:0.30854\n",
      "[27]\tTest-logloss:0.30630\n",
      "[28]\tTest-logloss:0.30361\n",
      "[29]\tTest-logloss:0.30202\n",
      "[30]\tTest-logloss:0.30059\n",
      "[31]\tTest-logloss:0.29942\n",
      "[32]\tTest-logloss:0.29737\n",
      "[33]\tTest-logloss:0.29646\n",
      "[34]\tTest-logloss:0.29454\n",
      "[35]\tTest-logloss:0.29276\n",
      "[36]\tTest-logloss:0.29190\n",
      "[37]\tTest-logloss:0.29126\n",
      "[38]\tTest-logloss:0.28904\n",
      "[39]\tTest-logloss:0.28840\n",
      "[40]\tTest-logloss:0.28726\n",
      "[41]\tTest-logloss:0.28546\n",
      "[42]\tTest-logloss:0.28394\n",
      "[43]\tTest-logloss:0.28339\n",
      "[44]\tTest-logloss:0.28290\n",
      "[45]\tTest-logloss:0.28238\n",
      "[46]\tTest-logloss:0.28168\n",
      "[47]\tTest-logloss:0.28122\n",
      "[48]\tTest-logloss:0.28032\n",
      "[49]\tTest-logloss:0.27999\n",
      "[50]\tTest-logloss:0.27965\n",
      "[51]\tTest-logloss:0.27871\n",
      "[52]\tTest-logloss:0.27850\n",
      "[53]\tTest-logloss:0.27765\n",
      "[54]\tTest-logloss:0.27715\n",
      "[55]\tTest-logloss:0.27508\n",
      "[56]\tTest-logloss:0.27432\n",
      "[57]\tTest-logloss:0.27257\n",
      "[58]\tTest-logloss:0.27123\n",
      "[59]\tTest-logloss:0.27022\n",
      "[60]\tTest-logloss:0.26986\n",
      "[61]\tTest-logloss:0.26962\n",
      "[62]\tTest-logloss:0.26889\n",
      "[63]\tTest-logloss:0.26855\n",
      "[64]\tTest-logloss:0.26736\n",
      "[65]\tTest-logloss:0.26544\n",
      "[66]\tTest-logloss:0.26390\n",
      "[67]\tTest-logloss:0.26338\n",
      "[68]\tTest-logloss:0.26324\n",
      "[69]\tTest-logloss:0.26308\n",
      "[70]\tTest-logloss:0.26239\n",
      "[71]\tTest-logloss:0.26019\n",
      "[72]\tTest-logloss:0.25899\n",
      "[73]\tTest-logloss:0.25867\n",
      "[74]\tTest-logloss:0.25750\n",
      "[75]\tTest-logloss:0.25704\n",
      "[76]\tTest-logloss:0.25657\n",
      "[77]\tTest-logloss:0.25493\n",
      "[78]\tTest-logloss:0.25468\n",
      "[79]\tTest-logloss:0.25401\n",
      "[80]\tTest-logloss:0.25387\n",
      "[81]\tTest-logloss:0.25382\n",
      "[82]\tTest-logloss:0.25371\n",
      "[83]\tTest-logloss:0.25306\n",
      "[84]\tTest-logloss:0.25227\n",
      "[85]\tTest-logloss:0.25213\n",
      "[86]\tTest-logloss:0.25193\n",
      "[87]\tTest-logloss:0.25186\n",
      "[88]\tTest-logloss:0.25049\n",
      "[89]\tTest-logloss:0.25036\n",
      "[90]\tTest-logloss:0.24912\n",
      "[91]\tTest-logloss:0.24783\n",
      "[92]\tTest-logloss:0.24735\n",
      "[93]\tTest-logloss:0.24738\n",
      "[94]\tTest-logloss:0.24704\n",
      "[95]\tTest-logloss:0.24633\n",
      "[96]\tTest-logloss:0.24583\n",
      "[97]\tTest-logloss:0.24583\n",
      "[98]\tTest-logloss:0.24511\n",
      "[99]\tTest-logloss:0.24482\n",
      "[100]\tTest-logloss:0.24429\n",
      "[101]\tTest-logloss:0.24410\n",
      "[102]\tTest-logloss:0.24348\n",
      "[103]\tTest-logloss:0.24313\n",
      "[104]\tTest-logloss:0.24201\n",
      "[105]\tTest-logloss:0.24198\n",
      "[106]\tTest-logloss:0.24161\n",
      "[107]\tTest-logloss:0.24161\n",
      "[108]\tTest-logloss:0.24104\n",
      "[109]\tTest-logloss:0.24107\n",
      "[110]\tTest-logloss:0.24068\n",
      "[111]\tTest-logloss:0.24069\n",
      "[112]\tTest-logloss:0.24016\n",
      "[113]\tTest-logloss:0.23929\n",
      "[114]\tTest-logloss:0.23883\n",
      "[115]\tTest-logloss:0.23876\n",
      "[116]\tTest-logloss:0.23875\n",
      "[117]\tTest-logloss:0.23838\n",
      "[118]\tTest-logloss:0.23725\n",
      "[119]\tTest-logloss:0.23613\n",
      "[120]\tTest-logloss:0.23542\n",
      "[121]\tTest-logloss:0.23500\n",
      "[122]\tTest-logloss:0.23505\n",
      "[123]\tTest-logloss:0.23494\n",
      "[124]\tTest-logloss:0.23527\n",
      "[125]\tTest-logloss:0.23478\n",
      "[126]\tTest-logloss:0.23434\n",
      "[127]\tTest-logloss:0.23400\n",
      "[128]\tTest-logloss:0.23375\n",
      "[129]\tTest-logloss:0.23354\n",
      "[130]\tTest-logloss:0.23293\n",
      "[131]\tTest-logloss:0.23273\n",
      "[132]\tTest-logloss:0.23269\n",
      "[133]\tTest-logloss:0.23269\n",
      "[134]\tTest-logloss:0.23219\n",
      "[135]\tTest-logloss:0.23187\n",
      "[136]\tTest-logloss:0.23157\n",
      "[137]\tTest-logloss:0.23095\n",
      "[138]\tTest-logloss:0.23066\n",
      "[139]\tTest-logloss:0.23048\n",
      "[140]\tTest-logloss:0.23017\n",
      "[141]\tTest-logloss:0.22988\n",
      "[142]\tTest-logloss:0.22988\n",
      "[143]\tTest-logloss:0.22936\n",
      "[144]\tTest-logloss:0.22916\n",
      "[145]\tTest-logloss:0.22891\n",
      "[146]\tTest-logloss:0.22891\n",
      "[147]\tTest-logloss:0.22870\n",
      "[148]\tTest-logloss:0.22853\n",
      "[149]\tTest-logloss:0.22856\n",
      "[150]\tTest-logloss:0.22803\n",
      "[151]\tTest-logloss:0.22738\n",
      "[152]\tTest-logloss:0.22741\n",
      "[153]\tTest-logloss:0.22654\n",
      "[154]\tTest-logloss:0.22636\n",
      "[155]\tTest-logloss:0.22624\n",
      "[156]\tTest-logloss:0.22571\n",
      "[157]\tTest-logloss:0.22573\n",
      "[158]\tTest-logloss:0.22564\n",
      "[159]\tTest-logloss:0.22568\n",
      "[160]\tTest-logloss:0.22568\n",
      "[161]\tTest-logloss:0.22568\n",
      "[162]\tTest-logloss:0.22576\n",
      "[163]\tTest-logloss:0.22543\n",
      "[164]\tTest-logloss:0.22528\n",
      "[165]\tTest-logloss:0.22526\n",
      "[166]\tTest-logloss:0.22493\n",
      "[167]\tTest-logloss:0.22466\n",
      "[168]\tTest-logloss:0.22448\n",
      "[169]\tTest-logloss:0.22451\n",
      "[170]\tTest-logloss:0.22427\n",
      "[171]\tTest-logloss:0.22366\n",
      "[172]\tTest-logloss:0.22309\n",
      "[173]\tTest-logloss:0.22308\n",
      "[174]\tTest-logloss:0.22236\n",
      "[175]\tTest-logloss:0.22224\n",
      "[176]\tTest-logloss:0.22221\n",
      "[177]\tTest-logloss:0.22222\n",
      "[178]\tTest-logloss:0.22223\n",
      "[179]\tTest-logloss:0.22222\n",
      "[180]\tTest-logloss:0.22289\n",
      "[181]\tTest-logloss:0.22343\n",
      "[182]\tTest-logloss:0.22293\n",
      "[183]\tTest-logloss:0.22287\n",
      "[184]\tTest-logloss:0.22288\n",
      "[185]\tTest-logloss:0.22253\n",
      "[186]\tTest-logloss:0.22194\n",
      "[187]\tTest-logloss:0.22178\n",
      "[188]\tTest-logloss:0.22155\n",
      "[189]\tTest-logloss:0.22142\n",
      "[190]\tTest-logloss:0.22144\n",
      "[191]\tTest-logloss:0.22147\n",
      "[192]\tTest-logloss:0.22099\n",
      "[193]\tTest-logloss:0.22059\n",
      "[194]\tTest-logloss:0.22042\n",
      "[195]\tTest-logloss:0.22037\n",
      "[196]\tTest-logloss:0.22038\n",
      "[197]\tTest-logloss:0.21975\n",
      "[198]\tTest-logloss:0.21943\n",
      "[199]\tTest-logloss:0.21916\n",
      "[200]\tTest-logloss:0.21915\n",
      "[201]\tTest-logloss:0.21872\n",
      "[202]\tTest-logloss:0.21872\n",
      "[203]\tTest-logloss:0.21872\n",
      "[204]\tTest-logloss:0.21850\n",
      "[205]\tTest-logloss:0.21848\n",
      "[206]\tTest-logloss:0.21839\n",
      "[207]\tTest-logloss:0.21815\n",
      "[208]\tTest-logloss:0.21805\n",
      "[209]\tTest-logloss:0.21787\n",
      "[210]\tTest-logloss:0.21761\n",
      "[211]\tTest-logloss:0.21742\n",
      "[212]\tTest-logloss:0.21773\n",
      "[213]\tTest-logloss:0.21829\n",
      "[214]\tTest-logloss:0.21812\n",
      "[215]\tTest-logloss:0.21768\n",
      "[216]\tTest-logloss:0.21723\n",
      "[217]\tTest-logloss:0.21791\n",
      "[218]\tTest-logloss:0.21777\n",
      "[219]\tTest-logloss:0.21779\n",
      "[220]\tTest-logloss:0.21723\n",
      "[221]\tTest-logloss:0.21722\n",
      "[222]\tTest-logloss:0.21723\n",
      "[223]\tTest-logloss:0.21740\n",
      "[224]\tTest-logloss:0.21732\n",
      "[225]\tTest-logloss:0.21733\n",
      "[226]\tTest-logloss:0.21714\n",
      "[227]\tTest-logloss:0.21707\n",
      "[228]\tTest-logloss:0.21705\n",
      "[229]\tTest-logloss:0.21705\n",
      "[230]\tTest-logloss:0.21685\n",
      "[231]\tTest-logloss:0.21682\n",
      "[232]\tTest-logloss:0.21686\n",
      "[233]\tTest-logloss:0.21668\n",
      "[234]\tTest-logloss:0.21654\n",
      "[235]\tTest-logloss:0.21657\n",
      "[236]\tTest-logloss:0.21576\n",
      "[237]\tTest-logloss:0.21542\n",
      "[238]\tTest-logloss:0.21515\n",
      "[239]\tTest-logloss:0.21498\n",
      "[240]\tTest-logloss:0.21472\n",
      "[241]\tTest-logloss:0.21448\n",
      "[242]\tTest-logloss:0.21429\n",
      "[243]\tTest-logloss:0.21428\n",
      "[244]\tTest-logloss:0.21425\n"
     ]
    }
   ],
   "source": [
    "num_boost_round = model.best_iteration + 1\n",
    "best_model = xgb.train(\n",
    "    params,\n",
    "    dtrain,\n",
    "    num_boost_round=num_boost_round,\n",
    "    evals=[(dtest, \"Test\")]\n",
    ")"
   ]
  },
  {
   "cell_type": "code",
   "execution_count": 51,
   "id": "46737f4c",
   "metadata": {
    "execution": {
     "iopub.execute_input": "2021-12-21T15:25:06.935772Z",
     "iopub.status.busy": "2021-12-21T15:25:06.934674Z",
     "iopub.status.idle": "2021-12-21T15:25:07.139317Z",
     "shell.execute_reply": "2021-12-21T15:25:07.139889Z",
     "shell.execute_reply.started": "2021-12-21T13:06:18.664994Z"
    },
    "papermill": {
     "duration": 0.532963,
     "end_time": "2021-12-21T15:25:07.140143",
     "exception": false,
     "start_time": "2021-12-21T15:25:06.607180",
     "status": "completed"
    },
    "tags": []
   },
   "outputs": [],
   "source": [
    "predictions = best_model.predict(dtest)"
   ]
  },
  {
   "cell_type": "markdown",
   "id": "b4ca8bbc",
   "metadata": {
    "execution": {
     "iopub.execute_input": "2021-08-25T18:18:54.321224Z",
     "iopub.status.busy": "2021-08-25T18:18:54.32071Z",
     "iopub.status.idle": "2021-08-25T18:18:54.325475Z",
     "shell.execute_reply": "2021-08-25T18:18:54.324349Z",
     "shell.execute_reply.started": "2021-08-25T18:18:54.321183Z"
    },
    "papermill": {
     "duration": 0.325406,
     "end_time": "2021-12-21T15:25:07.814112",
     "exception": false,
     "start_time": "2021-12-21T15:25:07.488706",
     "status": "completed"
    },
    "tags": []
   },
   "source": [
    "# ROC_AUC score on the test set"
   ]
  },
  {
   "cell_type": "markdown",
   "id": "f3d90586",
   "metadata": {
    "papermill": {
     "duration": 0.323375,
     "end_time": "2021-12-21T15:25:08.462619",
     "exception": false,
     "start_time": "2021-12-21T15:25:08.139244",
     "status": "completed"
    },
    "tags": []
   },
   "source": [
    "As required, we will calculate the roc auc score of the model on the test set"
   ]
  },
  {
   "cell_type": "code",
   "execution_count": 52,
   "id": "8c8abecd",
   "metadata": {
    "execution": {
     "iopub.execute_input": "2021-12-21T15:25:09.125893Z",
     "iopub.status.busy": "2021-12-21T15:25:09.124906Z",
     "iopub.status.idle": "2021-12-21T15:25:09.149623Z",
     "shell.execute_reply": "2021-12-21T15:25:09.149098Z",
     "shell.execute_reply.started": "2021-12-21T13:06:18.892905Z"
    },
    "papermill": {
     "duration": 0.357296,
     "end_time": "2021-12-21T15:25:09.149778",
     "exception": false,
     "start_time": "2021-12-21T15:25:08.792482",
     "status": "completed"
    },
    "tags": []
   },
   "outputs": [
    {
     "data": {
      "text/plain": [
       "0.9480011698265051"
      ]
     },
     "execution_count": 52,
     "metadata": {},
     "output_type": "execute_result"
    }
   ],
   "source": [
    "metrics.roc_auc_score(y_test, predictions)"
   ]
  },
  {
   "cell_type": "markdown",
   "id": "3972d88d",
   "metadata": {
    "papermill": {
     "duration": 0.326404,
     "end_time": "2021-12-21T15:25:09.799952",
     "exception": false,
     "start_time": "2021-12-21T15:25:09.473548",
     "status": "completed"
    },
    "tags": []
   },
   "source": [
    "We have got quite interesting result, 0.94. Of course it could be improved but we will it here for the moment.\n",
    "Save the model:"
   ]
  },
  {
   "cell_type": "code",
   "execution_count": 53,
   "id": "55cd8a12",
   "metadata": {
    "execution": {
     "iopub.execute_input": "2021-12-21T15:25:10.451036Z",
     "iopub.status.busy": "2021-12-21T15:25:10.450347Z",
     "iopub.status.idle": "2021-12-21T15:25:10.459516Z",
     "shell.execute_reply": "2021-12-21T15:25:10.458971Z",
     "shell.execute_reply.started": "2021-12-21T13:06:18.915079Z"
    },
    "papermill": {
     "duration": 0.335992,
     "end_time": "2021-12-21T15:25:10.459667",
     "exception": false,
     "start_time": "2021-12-21T15:25:10.123675",
     "status": "completed"
    },
    "tags": []
   },
   "outputs": [],
   "source": [
    "best_model.save_model(\"my_model.model\")"
   ]
  },
  {
   "cell_type": "markdown",
   "id": "fb6b0720",
   "metadata": {
    "papermill": {
     "duration": 0.32259,
     "end_time": "2021-12-21T15:25:11.107477",
     "exception": false,
     "start_time": "2021-12-21T15:25:10.784887",
     "status": "completed"
    },
    "tags": []
   },
   "source": [
    "# REFERENCES"
   ]
  },
  {
   "cell_type": "markdown",
   "id": "89ed2c7e",
   "metadata": {
    "papermill": {
     "duration": 0.325782,
     "end_time": "2021-12-21T15:25:11.756042",
     "exception": false,
     "start_time": "2021-12-21T15:25:11.430260",
     "status": "completed"
    },
    "tags": []
   },
   "source": [
    "For more details of the hyperparameter tuning techniques I have used in this notebook, refer to the following blog, it explains hyperparameter tuning in xgboost in detail:"
   ]
  },
  {
   "cell_type": "markdown",
   "id": "41a9d003",
   "metadata": {
    "papermill": {
     "duration": 0.324417,
     "end_time": "2021-12-21T15:25:12.404356",
     "exception": false,
     "start_time": "2021-12-21T15:25:12.079939",
     "status": "completed"
    },
    "tags": []
   },
   "source": [
    "XGBoost Hyperparameter tunning: https://blog.cambridgespark.com/hyperparameter-tuning-in-xgboost-4ff9100a3b2f"
   ]
  }
 ],
 "metadata": {
  "kernelspec": {
   "display_name": "Python 3",
   "language": "python",
   "name": "python3"
  },
  "language_info": {
   "codemirror_mode": {
    "name": "ipython",
    "version": 3
   },
   "file_extension": ".py",
   "mimetype": "text/x-python",
   "name": "python",
   "nbconvert_exporter": "python",
   "pygments_lexer": "ipython3",
   "version": "3.7.10"
  },
  "papermill": {
   "default_parameters": {},
   "duration": 3162.131816,
   "end_time": "2021-12-21T15:25:14.581477",
   "environment_variables": {},
   "exception": null,
   "input_path": "__notebook__.ipynb",
   "output_path": "__notebook__.ipynb",
   "parameters": {},
   "start_time": "2021-12-21T14:32:32.449661",
   "version": "2.3.3"
  }
 },
 "nbformat": 4,
 "nbformat_minor": 5
}
